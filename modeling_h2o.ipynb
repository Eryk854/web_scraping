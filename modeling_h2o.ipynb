{
 "cells": [
  {
   "cell_type": "code",
   "execution_count": null,
   "id": "43989b53-e1f4-4db5-a8f3-bfc7768b08d9",
   "metadata": {
    "tags": []
   },
   "outputs": [],
   "source": [
    "from h2o.tree import H2OTree\n",
    "from h2o.estimators import H2OGradientBoostingEstimator\n",
    "from h2o.grid.grid_search import H2OGridSearch\n",
    "from h2o.estimators import H2ORandomForestEstimator\n",
    "from h2o.estimators.glm import H2OGeneralizedLinearEstimator\n",
    "from h2o.estimators import H2ODeepLearningEstimator\n",
    "from h2o.automl import H2OAutoML\n",
    "import h2o\n",
    "import pandas as pd\n",
    "import numpy as np\n",
    "from sklearn.pipeline import Pipeline\n",
    "from sklearn.model_selection import train_test_split\n",
    "from sklearn.impute import SimpleImputer\n",
    "from sklearn.compose import ColumnTransformer\n",
    "from sklearn.compose import make_column_selector\n",
    "from sklearn.preprocessing import OneHotEncoder\n",
    "from sklearn.preprocessing import FunctionTransformer"
   ]
  },
  {
   "cell_type": "code",
   "execution_count": null,
   "id": "1a1e1267-ca91-4ab8-a4a0-c56525af10e8",
   "metadata": {
    "tags": []
   },
   "outputs": [],
   "source": [
    "h2o.init()\n",
    "# h2o.init(min_mem_size=\"30G\", max_mem_size=\"40G\", log_level=\"TRACE\", insecure=False, https=False)"
   ]
  },
  {
   "cell_type": "code",
   "execution_count": null,
   "id": "e25f8649-820a-463f-b8d6-18e5f82c35e5",
   "metadata": {
    "tags": []
   },
   "outputs": [],
   "source": [
    "df = pd.read_csv(\"merge_dataset.csv\", sep=\"\\t\")\n",
    "df.drop(columns=[\n",
    "    \"Miasto\", \n",
    "    \"URL\",\n",
    "    \"Pietro\", \n",
    "    \"formatted_address\",\n",
    "    \"result_confidence\",\n",
    "    \"suburb\",\n",
    "    \"building_category\",\n",
    "    \"result_type\",\n",
    "    \"Dataset\"\n",
    "], inplace=True)"
   ]
  },
  {
   "cell_type": "code",
   "execution_count": null,
   "id": "235bdc7c-7791-435c-8eee-4c0a8b4d20da",
   "metadata": {
    "tags": []
   },
   "outputs": [],
   "source": [
    "df1 = df.drop(columns=[\"Rynek\", \"Stan wykonczenia\"])\n",
    "df1.fillna(0, inplace=True)\n",
    "x_train, x_test, y_train, y_test = train_test_split(df1.iloc[:, 1:], df1[\"Cena\"], test_size=0.2, random_state=42)\n",
    "features = list(x_train.columns)"
   ]
  },
  {
   "cell_type": "code",
   "execution_count": null,
   "id": "eb09ab7c-823f-4581-8924-cba1591daa83",
   "metadata": {
    "tags": []
   },
   "outputs": [],
   "source": [
    "h2o_x_train = h2o.H2OFrame(x_train, column_names=features)\n",
    "h2o_y_train = h2o.H2OFrame(y_train.to_numpy(), column_names=[\"Cena\"])\n",
    "h2o_train = h2o.deep_copy(h2o_x_train, \"h2o_train\")\n",
    "h2o_train[\"Cena\"] = h2o_y_train\n",
    "h2o_x_test = h2o.H2OFrame(x_test, column_names=features)\n",
    "h2o_y_test = h2o.H2OFrame(y_test.to_numpy(), column_names=[\"Cena\"])\n",
    "h2o_test = h2o.deep_copy(h2o_x_test, \"h2o_test\")\n",
    "h2o_test[\"Cena\"] = h2o_y_test"
   ]
  },
  {
   "cell_type": "code",
   "execution_count": null,
   "id": "aff5e347-6afa-49ec-84cc-e5eaf03e963f",
   "metadata": {
    "tags": []
   },
   "outputs": [],
   "source": [
    "predictors = h2o_x_train.columns\n",
    "response = h2o_y_train.columns[0]\n",
    "predictors"
   ]
  },
  {
   "cell_type": "markdown",
   "id": "c57feb8f-9041-41e1-ae2a-44ecda09374b",
   "metadata": {},
   "source": [
    "# Baseline models"
   ]
  },
  {
   "cell_type": "code",
   "execution_count": null,
   "id": "8178f936-d8c9-4d50-b14a-3dd90a3e8bde",
   "metadata": {},
   "outputs": [],
   "source": [
    "model = H2ORandomForestEstimator(seed=1)\n",
    "model.train(\n",
    "    x = predictors,\n",
    "    y = response,\n",
    "    training_frame = h2o_train,\n",
    "    validation_frame = h2o_test\n",
    ")\n",
    "print(model.model_performance())\n",
    "print(model.model_performance(h2o_test))\n",
    "print(model.r2())\n",
    "print(model.r2(valid=True))"
   ]
  },
  {
   "cell_type": "code",
   "execution_count": null,
   "id": "d56e4724-14f9-4100-8dde-e2b02256a253",
   "metadata": {
    "tags": []
   },
   "outputs": [],
   "source": [
    "model = H2OGradientBoostingEstimator(seed=1)\n",
    "model.train(\n",
    "    x = predictors,\n",
    "    y = response,\n",
    "    training_frame = h2o_train,\n",
    "    validation_frame = h2o_test\n",
    ")\n",
    "print(model.model_performance())\n",
    "print(model.model_performance(h2o_test))\n",
    "print(model.r2())\n",
    "print(model.r2(valid=True))"
   ]
  },
  {
   "cell_type": "code",
   "execution_count": null,
   "id": "0fa4ba20-5cc7-45cc-b43e-6ea5dad6f56d",
   "metadata": {},
   "outputs": [],
   "source": [
    "model = H2OGeneralizedLinearEstimator(solver=\"COORDINATE_DESCENT_NAIVE\", alpha=1)\n",
    "model.train(\n",
    "    x = predictors,\n",
    "    y = response,\n",
    "    training_frame = h2o_train,\n",
    "    validation_frame = h2o_test\n",
    ")\n",
    "print(model.model_performance())\n",
    "print(model.model_performance(h2o_test))\n",
    "print(model.r2())\n",
    "print(model.r2(valid=True))"
   ]
  },
  {
   "cell_type": "code",
   "execution_count": null,
   "id": "905aa588-0cbf-4ec5-8335-b4c89b6ee8ae",
   "metadata": {},
   "outputs": [],
   "source": [
    "model = H2ODeepLearningEstimator(seed=1, reproducible=True)\n",
    "model.train(\n",
    "    x = predictors,\n",
    "    y = response,\n",
    "    training_frame = h2o_x_train,\n",
    "    validation_frame = h2o_x_test\n",
    ")\n",
    "print(model.model_performance())\n",
    "print(model.model_performance(h2o_test))\n",
    "print(model.r2())\n",
    "print(model.r2(valid=True))"
   ]
  },
  {
   "cell_type": "code",
   "execution_count": null,
   "id": "7b1e8018-3496-4489-883e-96b43e148b96",
   "metadata": {},
   "outputs": [],
   "source": [
    "model = H2OAutoML(seed=1)\n",
    "model.train(\n",
    "    x=predictors,\n",
    "    y=response,\n",
    "    training_frame=h2o_train, \n",
    "    validation_frame=h2o_test\n",
    ")"
   ]
  },
  {
   "cell_type": "markdown",
   "id": "94877a18-4997-4ad2-b4a6-424de6566fcf",
   "metadata": {},
   "source": [
    "## Outlier detection and data scaling"
   ]
  },
  {
   "cell_type": "code",
   "execution_count": null,
   "id": "60a58d3b-81eb-463c-be1b-75063f2b8e1b",
   "metadata": {
    "tags": []
   },
   "outputs": [],
   "source": [
    "df = pd.read_csv(\"merge_dataset.csv\", sep=\"\\t\")\n",
    "df.drop(columns=[\n",
    "    \"Miasto\", \n",
    "    \"URL\",\n",
    "    \"Pietro\", \n",
    "    \"formatted_address\",\n",
    "    \"result_confidence\",\n",
    "    \"suburb\",\n",
    "    \"building_category\",\n",
    "    \"result_type\",\n",
    "    \"Dataset\"\n",
    "], inplace=True)"
   ]
  },
  {
   "cell_type": "code",
   "execution_count": null,
   "id": "7d546cab-3513-40bd-af3d-b7936cbba834",
   "metadata": {
    "tags": []
   },
   "outputs": [],
   "source": [
    "train, test = train_test_split(df, test_size=0.2, random_state=42)\n",
    "train_outlier = train.copy()\n",
    "test_outlier = test.copy()\n",
    "train_outlier = train_outlier[(train_outlier[\"Cena\"]>250000)&(train_outlier[\"Cena\"]<4000000)]\n",
    "test_outlier = test_outlier[(test_outlier[\"Cena\"]>250000)&(test_outlier[\"Cena\"]<4000000)]\n",
    "train_outlier = train_outlier[(train_outlier[\"Powierzchnia\"]<300)]\n",
    "test_outlier = test_outlier[(test_outlier[\"Powierzchnia\"]<300)]"
   ]
  },
  {
   "cell_type": "code",
   "execution_count": null,
   "id": "cf6dbc27-d45f-49c1-85c9-a805f59647f6",
   "metadata": {
    "tags": []
   },
   "outputs": [],
   "source": [
    "numeric_imputer = SimpleImputer(missing_values=np.nan, strategy=\"mean\")\n",
    "categorical_imputer = SimpleImputer(missing_values=np.nan, strategy=\"most_frequent\")\n",
    "binary_imputer = SimpleImputer(missing_values=np.nan, strategy=\"most_frequent\")\n",
    "categorical_encoder = OneHotEncoder(drop=\"first\")\n",
    "\n",
    "categorical_pipeline = Pipeline(\n",
    "    steps=[\n",
    "        (\"imputer\", categorical_imputer),\n",
    "        (\"encoder\", categorical_encoder)\n",
    "    ]\n",
    ")\n",
    "binary_pipeline = binary_imputer\n",
    "numeric_pipeline = numeric_imputer\n",
    "\n",
    "preprocessing = ColumnTransformer(\n",
    "    transformers=[\n",
    "        (\"num\", numeric_pipeline, make_column_selector(dtype_include=float)),\n",
    "        (\"cat\", categorical_pipeline, make_column_selector(dtype_include=object)),\n",
    "        (\"bin\", binary_pipeline, make_column_selector(dtype_include=int))\n",
    "    ]\n",
    ")"
   ]
  },
  {
   "cell_type": "code",
   "execution_count": null,
   "id": "b056b9b1-fde2-4454-a159-d030e11bf2fd",
   "metadata": {
    "tags": []
   },
   "outputs": [],
   "source": [
    "preprocessor = preprocessing.fit(train_outlier.iloc[:, 1:])\n",
    "num_features = list(preprocessing.named_transformers_[\"num\"].feature_names_in_)\n",
    "cat_features = list(preprocessing.named_transformers_[\"cat\"].steps[1][1].get_feature_names_out())\n",
    "bin_features = list(preprocessing.named_transformers_[\"bin\"].feature_names_in_)\n",
    "features = num_features + cat_features + bin_features"
   ]
  },
  {
   "cell_type": "code",
   "execution_count": null,
   "id": "f5785e73-ea35-4899-8855-da85cba7347d",
   "metadata": {
    "tags": []
   },
   "outputs": [],
   "source": [
    "train_preprocessed = pd.DataFrame(preprocessor.transform(train_outlier.iloc[:, 1:]), columns=features)\n",
    "y_train = train_outlier.iloc[:, 0]\n",
    "test_preprocessed = pd.DataFrame(preprocessor.transform(test_outlier.iloc[:, 1:]), columns=features)\n",
    "y_test = test_outlier.iloc[:, 0]"
   ]
  },
  {
   "cell_type": "code",
   "execution_count": null,
   "id": "c073b5ab-165c-48f0-9106-31da1e6ea73f",
   "metadata": {
    "tags": []
   },
   "outputs": [],
   "source": [
    "h2o_x_train = h2o.H2OFrame(train_preprocessed, column_names=features)\n",
    "h2o_y_train = h2o.H2OFrame(y_train.to_numpy(), column_names=[\"Cena\"])\n",
    "h2o_train = h2o.deep_copy(h2o_x_train, \"h2o_train\")\n",
    "h2o_train[\"Cena\"] = h2o_y_train\n",
    "h2o_x_test = h2o.H2OFrame(test_preprocessed, column_names=features)\n",
    "h2o_y_test = h2o.H2OFrame(y_test.to_numpy(), column_names=[\"Cena\"])\n",
    "h2o_test = h2o.deep_copy(h2o_x_test, \"h2o_test\")\n",
    "h2o_test[\"Cena\"] = h2o_y_test"
   ]
  },
  {
   "cell_type": "code",
   "execution_count": null,
   "id": "906ba104-eff6-4a97-be6b-175d6cfbd03e",
   "metadata": {
    "tags": []
   },
   "outputs": [],
   "source": [
    "predictors = h2o_x_train.columns\n",
    "response = h2o_y_train.columns[0]\n",
    "predictors"
   ]
  },
  {
   "cell_type": "markdown",
   "id": "4eb64d3f-51eb-4124-ae3a-8cf863908933",
   "metadata": {},
   "source": [
    "### Random Forest"
   ]
  },
  {
   "cell_type": "code",
   "execution_count": null,
   "id": "5ff998e7-ce0a-4624-b8bc-bf0ee4882993",
   "metadata": {},
   "outputs": [],
   "source": [
    "model = H2ORandomForestEstimator(seed=1)\n",
    "model.train(\n",
    "    x = predictors,\n",
    "    y = response,\n",
    "    training_frame = h2o_train,\n",
    "    validation_frame = h2o_test\n",
    ")\n",
    "print(model.model_performance())\n",
    "print(model.model_performance(h2o_test))\n",
    "print(model.r2())\n",
    "print(model.r2(valid=True))"
   ]
  },
  {
   "cell_type": "code",
   "execution_count": null,
   "id": "e10a21b8-d910-4049-862e-3ccbe13c9392",
   "metadata": {
    "tags": []
   },
   "outputs": [],
   "source": [
    "hyper_params = {\n",
    "    \"ntrees\": [int(x) for x in np.linspace(start = 200, stop = 2000, num = 10)],\n",
    "    'max_depth' : [int(x) for x in np.linspace(10, 200, num = 5)],\n",
    "     \"min_rows\": [1, 2, 4, 8, 16],\n",
    "    'sample_rate': [x/100. for x in range(20,101)],\n",
    "    'nbins' : [1, 2, 6, 10, 20, 50, 100],\n",
    "    \"seed\": [1]\n",
    "}\n",
    "\n",
    "search_criteria = { \n",
    "    \"strategy\":\"RandomDiscrete\",   # Can be also cartesian                      \n",
    "    'max_runtime_secs': 14400, # 4h   14400 \n",
    "    'max_models': 300,  ## build no more than 100 models\n",
    "    'seed' : 1\n",
    "}\n",
    "\n",
    "rf = H2ORandomForestEstimator()\n",
    "rf_grid = H2OGridSearch(\n",
    "    model = rf, \n",
    "    hyper_params = hyper_params,\n",
    "    search_criteria = search_criteria\n",
    ")\n",
    "\n",
    "rf_grid.train(\n",
    "    x = predictors,\n",
    "    y = response,\n",
    "    training_frame = h2o_train,\n",
    "    validation_frame = h2o_test\n",
    ")"
   ]
  },
  {
   "cell_type": "code",
   "execution_count": null,
   "id": "f71ff7aa-38ac-46b3-96ec-8f6630b35931",
   "metadata": {
    "tags": []
   },
   "outputs": [],
   "source": [
    "rf_grid.models"
   ]
  },
  {
   "cell_type": "code",
   "execution_count": null,
   "id": "673df283-7253-4086-bd37-46eb3a38e9d3",
   "metadata": {},
   "outputs": [],
   "source": [
    "h2o.save_model(rf_grid.models[0], path=\"models/rf_best\", force=True)"
   ]
  },
  {
   "cell_type": "code",
   "execution_count": null,
   "id": "e180639a-dc0e-4045-b3cc-508eb6bc0407",
   "metadata": {
    "tags": []
   },
   "outputs": [],
   "source": [
    "print(rf_grid.models[0].model_performance())\n",
    "print(rf_grid.models[0].model_performance(h2o_test))\n",
    "print(rf_grid.models[0].r2())\n",
    "print(rf_grid.models[0].r2(valid=True))"
   ]
  },
  {
   "cell_type": "markdown",
   "id": "011c179c-e0a1-4fb9-b67a-2484543d4fdd",
   "metadata": {},
   "source": [
    "## Gradient Boosting Regressor"
   ]
  },
  {
   "cell_type": "code",
   "execution_count": null,
   "id": "9b798099-73b9-41aa-8b7e-fb388910259d",
   "metadata": {
    "tags": []
   },
   "outputs": [],
   "source": [
    "model = H2OGradientBoostingEstimator(seed=1)\n",
    "model.train(\n",
    "    x = predictors,\n",
    "    y = response,\n",
    "    training_frame = h2o_train,\n",
    "    validation_frame = h2o_test\n",
    ")\n",
    "print(model.model_performance())\n",
    "print(model.model_performance(h2o_test))\n",
    "print(model.r2())\n",
    "print(model.r2(valid=True))"
   ]
  },
  {
   "cell_type": "code",
   "execution_count": null,
   "id": "03adc1b3-971a-4e23-ad3a-229534058d54",
   "metadata": {},
   "outputs": [],
   "source": [
    "hyper_params = {\n",
    "    'max_depth' : [int(x) for x in np.linspace(start = 1, stop = 200, num = 5)],\n",
    "    \"ntrees\": [int(x) for x in np.linspace(start = 10, stop = 2000, num = 10)],\n",
    "    \"min_rows\": [int(x) for x in np.linspace(start = 2, stop = 30, num = 1)],\n",
    "    'learn_rate': [0.00001, 0.0001, 0.001, 0.01, 0.1, 0.25, 0.5, 1],\n",
    "    \"min_split_improvement\": [0.000000001, 0.00000001, 0.0000001, 0.000001, 0.0001, 0.001, 0.01, 0.1, 0.3],\n",
    "    'sample_rate': [x/100. for x in range(20,101)],\n",
    "    'col_sample_rate' : [x/100. for x in range(20,101)],\n",
    "    \"seed\": [1]\n",
    "}\n",
    "\n",
    "search_criteria = { \n",
    "    \"strategy\":\"RandomDiscrete\",   # Can be also cartesian                      \n",
    "    'max_runtime_secs': 14400, # 4h   14400 \n",
    "    'max_models': 300,  ## build no more than 100 models\n",
    "    'seed' : 1\n",
    "}\n",
    "\n",
    "tree = H2OGradientBoostingEstimator()\n",
    "xgb_grid = H2OGridSearch(\n",
    "    model = tree, \n",
    "    hyper_params = hyper_params,\n",
    "    search_criteria = search_criteria\n",
    ")\n",
    "\n",
    "xgb_grid.train(\n",
    "    x = predictors,\n",
    "    y = response,\n",
    "    training_frame = h2o_train,\n",
    "    validation_frame = h2o_test\n",
    ")"
   ]
  },
  {
   "cell_type": "code",
   "execution_count": null,
   "id": "7f76925c-9001-49b2-83a6-e8ed9dcfc1d3",
   "metadata": {},
   "outputs": [],
   "source": [
    "xgb_grid.models"
   ]
  },
  {
   "cell_type": "code",
   "execution_count": null,
   "id": "2d5f4546-5a95-404d-8cc8-81ab8f92d8c0",
   "metadata": {
    "tags": []
   },
   "outputs": [],
   "source": [
    "h2o.save_model(xgb_grid.models[0], path=\"models/xgb_grid\", force=True)"
   ]
  },
  {
   "cell_type": "code",
   "execution_count": null,
   "id": "200d656d-30e5-4bc1-92ad-78239343cabc",
   "metadata": {},
   "outputs": [],
   "source": [
    "print(xgb_grid.models[0].model_performance())\n",
    "print(xgb_grid.models[0].model_performance(h2o_test))\n",
    "print(xgb_grid.models[0].r2())\n",
    "print(xgb_grid.models[0].r2(valid=True))"
   ]
  },
  {
   "cell_type": "markdown",
   "id": "1dcc1175-fe91-432b-b7ca-02e825153daf",
   "metadata": {},
   "source": [
    "### Deep learning"
   ]
  },
  {
   "cell_type": "code",
   "execution_count": null,
   "id": "b62307c7-7f28-4417-a724-a6b9d2b98b32",
   "metadata": {},
   "outputs": [],
   "source": [
    "model = H2ODeepLearningEstimator(seed=1, reproducible=True)\n",
    "model.train(\n",
    "    x = predictors,\n",
    "    y = response,\n",
    "    training_frame = h2o_train,\n",
    "    validation_frame = h2o_test\n",
    ")\n",
    "print(model.model_performance())\n",
    "print(model.model_performance(h2o_test))\n",
    "print(model.r2())\n",
    "print(model.r2(valid=True))"
   ]
  },
  {
   "cell_type": "code",
   "execution_count": null,
   "id": "5f4c180a-94c7-4361-8b21-bf1654a43753",
   "metadata": {},
   "outputs": [],
   "source": [
    "hyper_params = {\n",
    "    \"activation\": [\"Rectifier\", \"Maxout\", \"Tanh\", \"RectifierWithDropout\", \"MaxoutWithDropout\", \"TanhWithDropout\"],\n",
    "    \"hidden\": [[20], [50], [100], [250], [500], [1000], [2500], [20, 20], [50, 50], [100, 100], [250, 250], [500, 500], [1000, 1000],[2500, 2500], [20, 20, 20], [50, 50, 50], [100, 100, 100], [250, 250, 250], [500, 500, 500], [1000, 1000, 1000],[2500, 2500, 2500]],\n",
    "    \"epochs\": [10, 25, 50, 100, 200, 350],\n",
    "    \"rho\": [0.8, 0.9, 0.95, 0.99, 0.999],\n",
    "    \"rate\": [0.5, 0.25, 0, 0.1, 0.005, 0.001],\n",
    "    \"momentum_start\": [0, 0.25, 0.5, 1],\n",
    "    \"momentum_stable\": [0, 0.25, 0.5, 1],\n",
    "    \"epsilon\": [1e-10, 1e-8, 1e-6, 1e-4],\n",
    "    \"max_w2\": [10, 100, 1000, 3.4028235e+38],\n",
    "    \"l1\": [0, 0.00001, 0.0001, 0.001, 0.01, 0.1, 0.25],\n",
    "    \"l2\": [0, 0.00001, 0.0001, 0.001, 0.01, 0.1, 0.25],\n",
    "    \"seed\": [1]\n",
    "}\n",
    "\n",
    "search_criteria = { \n",
    "    \"strategy\":\"RandomDiscrete\",   # Can be also cartesian                      \n",
    "    'max_runtime_secs': 14400, # 4h   14400 \n",
    "    'max_models': 300,  ## build no more than 100 models\n",
    "    'seed' : 1\n",
    "}\n",
    "\n",
    "mlp = H2ODeepLearningEstimator(seed=1)\n",
    "mlp_grid = H2OGridSearch(\n",
    "    model = mlp, \n",
    "    hyper_params = hyper_params,\n",
    "    search_criteria = search_criteria\n",
    ")\n",
    "\n",
    "mlp_grid.train(\n",
    "    x = predictors,\n",
    "    y = response,\n",
    "    training_frame = h2o_train,\n",
    "    validation_frame = h2o_test\n",
    ")"
   ]
  },
  {
   "cell_type": "code",
   "execution_count": null,
   "id": "a76af8af-187c-4582-a3b8-f914d2f081b8",
   "metadata": {},
   "outputs": [],
   "source": [
    "mlp_grid.models"
   ]
  },
  {
   "cell_type": "code",
   "execution_count": null,
   "id": "f06fea68-66a0-45d0-a208-9550fb13462d",
   "metadata": {},
   "outputs": [],
   "source": [
    "h2o.save_model(mlp_grid.models[0], path=\"models/mlp_grid\", force=True)"
   ]
  },
  {
   "cell_type": "code",
   "execution_count": null,
   "id": "803aa992-35ed-4d1d-97c4-7892f764b594",
   "metadata": {},
   "outputs": [],
   "source": [
    "print(mlp_grid.models[0].model_performance())\n",
    "print(mlp_grid.models[0].model_performance(h2o_test))\n",
    "print(mlp_grid.models[0].r2())\n",
    "print(mlp_grid.models[0].r2(valid=True))"
   ]
  },
  {
   "cell_type": "code",
   "execution_count": null,
   "id": "3c84d8a1-99f7-41f1-b35f-0e007fe637c0",
   "metadata": {},
   "outputs": [],
   "source": [
    "#Regresja liniowa"
   ]
  },
  {
   "cell_type": "code",
   "execution_count": null,
   "id": "66643525-a027-4608-bdf7-b3c427f51d46",
   "metadata": {
    "tags": []
   },
   "outputs": [],
   "source": [
    "model = H2OGeneralizedLinearEstimator(solver=\"COORDINATE_DESCENT_NAIVE\", alpha=1)\n",
    "model.train(\n",
    "    x = predictors,\n",
    "    y = response,\n",
    "    training_frame = h2o_train,\n",
    "    validation_frame = h2o_test\n",
    ")\n",
    "print(model.model_performance())\n",
    "print(model.model_performance(h2o_test))\n",
    "print(model.r2())\n",
    "print(model.r2(valid=True))"
   ]
  },
  {
   "cell_type": "code",
   "execution_count": null,
   "id": "61501f3c-ed5b-4ebd-b1ee-bdee2d482b23",
   "metadata": {},
   "outputs": [],
   "source": []
  },
  {
   "cell_type": "markdown",
   "id": "2fc3c576-eab4-4bdf-bfae-75e33ae7802f",
   "metadata": {},
   "source": [
    "# Automl"
   ]
  },
  {
   "cell_type": "code",
   "execution_count": null,
   "id": "a64bddcc-fee3-4e5f-be92-1b1ee288a42a",
   "metadata": {
    "tags": []
   },
   "outputs": [],
   "source": [
    "df = pd.read_csv(\"merge_dataset.csv\", sep=\"\\t\")\n",
    "df.drop(columns=[\n",
    "    \"Miasto\", \n",
    "    \"URL\",\n",
    "    \"Pietro\", \n",
    "    \"formatted_address\",\n",
    "    \"result_confidence\",\n",
    "    \"suburb\",\n",
    "    \"building_category\",\n",
    "    \"result_type\",\n",
    "    \"Dataset\"\n",
    "], inplace=True)"
   ]
  },
  {
   "cell_type": "code",
   "execution_count": null,
   "id": "8e892000-c402-4253-bc8f-0bcbce2711eb",
   "metadata": {
    "tags": []
   },
   "outputs": [],
   "source": [
    "train, test = train_test_split(df, test_size=0.2, random_state=42)\n",
    "train_outlier = train.copy()\n",
    "test_outlier = test.copy()\n",
    "train_outlier = train_outlier[(train_outlier[\"Cena\"]>250000)&(train_outlier[\"Cena\"]<4000000)]\n",
    "test_outlier = test_outlier[(test_outlier[\"Cena\"]>250000)&(test_outlier[\"Cena\"]<4000000)]\n",
    "train_outlier = train_outlier[(train_outlier[\"Powierzchnia\"]<300)]\n",
    "test_outlier = test_outlier[(test_outlier[\"Powierzchnia\"]<300)]"
   ]
  },
  {
   "cell_type": "code",
   "execution_count": null,
   "id": "b641b380-1bed-46d6-bf26-3e718c14a79f",
   "metadata": {
    "tags": []
   },
   "outputs": [],
   "source": [
    "features = train_outlier.drop(columns=[\"Cena\"]).columns.tolist()\n",
    "h2o_x_train = h2o.H2OFrame(train_outlier.drop(columns=[\"Cena\"]), column_names=features)\n",
    "h2o_y_train = h2o.H2OFrame(train_outlier[\"Cena\"].to_numpy(), column_names=[\"Cena\"])\n",
    "h2o_train = h2o.deep_copy(h2o_x_train, \"h2o_train\")\n",
    "h2o_train[\"Cena\"] = h2o_y_train\n",
    "h2o_x_test = h2o.H2OFrame(test_outlier.drop(columns=[\"Cena\"]), column_names=features)\n",
    "h2o_y_test = h2o.H2OFrame(test_outlier[\"Cena\"].to_numpy(), column_names=[\"Cena\"])\n",
    "h2o_test = h2o.deep_copy(h2o_x_test, \"h2o_test\")\n",
    "h2o_test[\"Cena\"] = h2o_y_test"
   ]
  },
  {
   "cell_type": "code",
   "execution_count": null,
   "id": "79ffaef0-fdc0-4bac-be06-add66ad5e367",
   "metadata": {
    "tags": []
   },
   "outputs": [],
   "source": [
    "predictors = h2o_x_train.columns\n",
    "response = h2o_y_train.columns[0]\n",
    "predictors"
   ]
  },
  {
   "cell_type": "code",
   "execution_count": null,
   "id": "41adb9f8-b774-4435-9b85-8ad10a3f3264",
   "metadata": {
    "tags": []
   },
   "outputs": [],
   "source": [
    "aml = H2OAutoML(max_models=300, max_runtime_secs=14400, seed=1)\n",
    "aml.train(x=predictors, y=response, training_frame=h2o_train, validation_frame=h2o_test)"
   ]
  },
  {
   "cell_type": "code",
   "execution_count": null,
   "id": "0a771670-95cc-45fd-bae4-d36320b22b32",
   "metadata": {},
   "outputs": [],
   "source": []
  }
 ],
 "metadata": {
  "kernelspec": {
   "display_name": "Python 3 (ipykernel)",
   "language": "python",
   "name": "python3"
  },
  "language_info": {
   "codemirror_mode": {
    "name": "ipython",
    "version": 3
   },
   "file_extension": ".py",
   "mimetype": "text/x-python",
   "name": "python",
   "nbconvert_exporter": "python",
   "pygments_lexer": "ipython3",
   "version": "3.9.10"
  }
 },
 "nbformat": 4,
 "nbformat_minor": 5
}
