{
 "cells": [
  {
   "cell_type": "code",
   "execution_count": null,
   "id": "43989b53-e1f4-4db5-a8f3-bfc7768b08d9",
   "metadata": {},
   "outputs": [],
   "source": [
    "from h2o.tree import H2OTree\n",
    "from h2o.estimators import H2OGradientBoostingEstimator\n",
    "from h2o.grid.grid_search import H2OGridSearch\n",
    "import h2o"
   ]
  },
  {
   "cell_type": "code",
   "execution_count": null,
   "id": "1a1e1267-ca91-4ab8-a4a0-c56525af10e8",
   "metadata": {},
   "outputs": [],
   "source": [
    "\n",
    "h2o.init()"
   ]
  },
  {
   "cell_type": "code",
   "execution_count": null,
   "id": "e25f8649-820a-463f-b8d6-18e5f82c35e5",
   "metadata": {},
   "outputs": [],
   "source": [
    "df = pd.read_csv(\"merge_dataset.csv\", sep=\"\\t\")\n",
    "df.drop(columns=[\n",
    "    \"Miasto\", \n",
    "    \"URL\",\n",
    "    \"Pietro\", \n",
    "    \"formatted_address\",\n",
    "    \"result_confidence\",\n",
    "    \"suburb\",\n",
    "    \"building_category\",\n",
    "    \"result_type\",\n",
    "    \"Dataset\"\n",
    "], inplace=True)"
   ]
  },
  {
   "cell_type": "code",
   "execution_count": null,
   "id": "cea7b84f-06a9-4a56-80bc-2d2927983229",
   "metadata": {},
   "outputs": [],
   "source": [
    "numeric_imputer = SimpleImputer(missing_values=np.nan, strategy=\"mean\")\n",
    "categorical_imputer = SimpleImputer(missing_values=np.nan, strategy=\"most_frequent\")\n",
    "binary_imputer = SimpleImputer(missing_values=np.nan, strategy=\"most_frequent\")\n",
    "categorical_encoder = OneHotEncoder(drop=\"first\")\n",
    "\n",
    "categorical_pipeline = Pipeline(\n",
    "    steps=[\n",
    "        (\"imputer\", categorical_imputer),\n",
    "        (\"encoder\", categorical_encoder)\n",
    "    ]\n",
    ")\n",
    "binary_pipeline = binary_imputer\n",
    "numeric_pipeline = numeric_imputer\n",
    "\n",
    "preprocessing = ColumnTransformer(\n",
    "    transformers=[\n",
    "        (\"num\", numeric_pipeline, make_column_selector(dtype_include=float)),\n",
    "        (\"cat\", categorical_pipeline, make_column_selector(dtype_include=object)),\n",
    "        (\"bin\", binary_pipeline, make_column_selector(dtype_include=int))\n",
    "    ]\n",
    ")"
   ]
  },
  {
   "cell_type": "code",
   "execution_count": null,
   "id": "47c204c6-744a-4635-b497-32b6a312a4d3",
   "metadata": {},
   "outputs": [],
   "source": [
    "train, test = train_test_split(df, test_size=0.2, random_state=42)"
   ]
  },
  {
   "cell_type": "code",
   "execution_count": null,
   "id": "00bc60d8-c3b2-40dc-b770-a0a165dbe304",
   "metadata": {},
   "outputs": [],
   "source": [
    "preprocessor = preprocessing.fit(train.iloc[:, 1:])\n",
    "num_features = list(preprocessing.named_transformers_[\"num\"].feature_names_in_)\n",
    "cat_features = list(preprocessing.named_transformers_[\"cat\"].steps[1][1].get_feature_names_out())\n",
    "bin_features = list(preprocessing.named_transformers_[\"bin\"].feature_names_in_)\n",
    "features = num_features + cat_features + bin_features"
   ]
  },
  {
   "cell_type": "code",
   "execution_count": null,
   "id": "3a4301f2-ba86-44b2-95f4-de7d8c4a7f15",
   "metadata": {},
   "outputs": [],
   "source": [
    "h2o_x_train = h2o.H2OFrame(train_preprocesed, column_names=features)\n",
    "h2o_y_train = h2o.H2OFrame(y_train.to_numpy(), column_names=[\"Cena\"])\n",
    "h2o_x_test = h2o.H2OFrame(test_preprocesed, column_names=features)\n",
    "h2o_y_test = h2o.H2OFrame(y_test.to_numpy(), column_names=[\"Cena\"])"
   ]
  },
  {
   "cell_type": "code",
   "execution_count": null,
   "id": "ec70a09e-5f2e-4d9a-a135-d3127cb9ee83",
   "metadata": {},
   "outputs": [],
   "source": [
    "predictors = h2o_x_train.columns\n",
    "response = h2o_y_train.columns"
   ]
  },
  {
   "cell_type": "code",
   "execution_count": null,
   "id": "9b798099-73b9-41aa-8b7e-fb388910259d",
   "metadata": {},
   "outputs": [],
   "source": [
    "tree = H2OGradientBoostingEstimator()\n",
    "tree.train(\n",
    "    x = predictors,\n",
    "    y = response,\n",
    "    training_frame = h2o_x_train,\n",
    "    validation_frame = h2o_x_test\n",
    ")"
   ]
  },
  {
   "cell_type": "code",
   "execution_count": null,
   "id": "03adc1b3-971a-4e23-ad3a-229534058d54",
   "metadata": {},
   "outputs": [],
   "source": [
    "hyper_params = {\n",
    "    'max_depth' : [5,7,9,10,12,13,15,20],\n",
    "    \"ntrees\": [20, 50, 100, 200, 500, 1000],\n",
    "    'sample_rate': [x/100. for x in range(20,101)],\n",
    "    'col_sample_rate' : [x/100. for x in range(20,101)],\n",
    "}\n",
    "grid_id = 'max_depth_grid'\n",
    "search_criteria = { \n",
    "    \"strategy\":\"RandomDiscrete\",                         \n",
    "    'max_runtime_secs': 900, #15 min     \n",
    "    'max_models': 100,  ## build no more than 100 models\n",
    "    'seed' : 42\n",
    "}\n",
    "\n",
    "tree = H2OGradientBoostingEstimator()\n",
    "\n",
    "xgb_grid = H2OGridSearch(model = tree, \n",
    "                         hyper_params = hyper_params,\n",
    "                         grid_id = grid_id,\n",
    "                         search_criteria = search_criteria)\n",
    "\n",
    "xgb_grid.train(\n",
    "    x = predictors,\n",
    "    y = response,\n",
    "    training_frame = h2o_x_train,\n",
    "    validation_frame = h2o_x_test\n",
    ")"
   ]
  },
  {
   "cell_type": "code",
   "execution_count": null,
   "id": "98276bb2-56da-453d-b39c-4eaa5b17c981",
   "metadata": {},
   "outputs": [],
   "source": [
    "xgb_grid.get_grid()"
   ]
  },
  {
   "cell_type": "code",
   "execution_count": null,
   "id": "200d656d-30e5-4bc1-92ad-78239343cabc",
   "metadata": {},
   "outputs": [],
   "source": [
    "best_tree = xgb_grid.models[0]\n",
    "print(best_tree.model_performance(h2o_x_test))\n",
    "print(best_tree.r2())\n",
    "print(best_tree.r2(valid=True))"
   ]
  },
  {
   "cell_type": "code",
   "execution_count": null,
   "id": "2afe1851-ea0f-45f9-935c-8dde2ebb9156",
   "metadata": {},
   "outputs": [],
   "source": [
    "tree.varimp_plot()"
   ]
  },
  {
   "cell_type": "code",
   "execution_count": null,
   "id": "8b6600b9-9a37-4433-a8b0-3723c5f0b12c",
   "metadata": {},
   "outputs": [],
   "source": []
  },
  {
   "cell_type": "code",
   "execution_count": null,
   "id": "947fc457-ff21-4420-a303-de3f03f8ac8b",
   "metadata": {},
   "outputs": [],
   "source": []
  },
  {
   "cell_type": "code",
   "execution_count": null,
   "id": "6ecb8caa-6723-4a78-9c29-7dbde15a40b8",
   "metadata": {},
   "outputs": [],
   "source": []
  },
  {
   "cell_type": "code",
   "execution_count": null,
   "id": "55c159d1-2a2f-41d7-a7f0-f0141f5c3c16",
   "metadata": {},
   "outputs": [],
   "source": []
  }
 ],
 "metadata": {
  "kernelspec": {
   "display_name": "Python 3 (ipykernel)",
   "language": "python",
   "name": "python3"
  },
  "language_info": {
   "codemirror_mode": {
    "name": "ipython",
    "version": 3
   },
   "file_extension": ".py",
   "mimetype": "text/x-python",
   "name": "python",
   "nbconvert_exporter": "python",
   "pygments_lexer": "ipython3",
   "version": "3.9.10"
  }
 },
 "nbformat": 4,
 "nbformat_minor": 5
}
