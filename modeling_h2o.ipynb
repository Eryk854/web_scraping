{
 "cells": [
  {
   "cell_type": "code",
   "execution_count": 1,
   "id": "43989b53-e1f4-4db5-a8f3-bfc7768b08d9",
   "metadata": {
    "tags": []
   },
   "outputs": [],
   "source": [
    "from h2o.tree import H2OTree\n",
    "from h2o.estimators import H2OGradientBoostingEstimator\n",
    "from h2o.grid.grid_search import H2OGridSearch\n",
    "from h2o.estimators import H2ORandomForestEstimator\n",
    "from h2o.estimators.glm import H2OGeneralizedLinearEstimator\n",
    "from h2o.estimators import H2ODeepLearningEstimator\n",
    "import h2o\n",
    "import pandas as pd\n",
    "import numpy as np\n",
    "from sklearn.pipeline import Pipeline\n",
    "from sklearn.model_selection import train_test_split\n",
    "from sklearn.impute import SimpleImputer\n",
    "from sklearn.compose import ColumnTransformer\n",
    "from sklearn.compose import make_column_selector\n",
    "from sklearn.preprocessing import OneHotEncoder\n",
    "from sklearn.preprocessing import FunctionTransformer"
   ]
  },
  {
   "cell_type": "code",
   "execution_count": 2,
   "id": "1a1e1267-ca91-4ab8-a4a0-c56525af10e8",
   "metadata": {
    "tags": []
   },
   "outputs": [
    {
     "name": "stdout",
     "output_type": "stream",
     "text": [
      "Checking whether there is an H2O instance running at http://localhost:54321..... not found.\n",
      "Attempting to start a local H2O server...\n",
      "; Java HotSpot(TM) 64-Bit Server VM (build 17.0.6+9-LTS-190, mixed mode, sharing)\n",
      "  Starting server from C:\\Users\\Eryk\\PycharmProjects\\webScraping\\venv\\Lib\\site-packages\\h2o\\backend\\bin\\h2o.jar\n",
      "  Ice root: C:\\Users\\Eryk\\AppData\\Local\\Temp\\tmpon8ueh7d\n",
      "  JVM stdout: C:\\Users\\Eryk\\AppData\\Local\\Temp\\tmpon8ueh7d\\h2o_Eryk_started_from_python.out\n",
      "  JVM stderr: C:\\Users\\Eryk\\AppData\\Local\\Temp\\tmpon8ueh7d\\h2o_Eryk_started_from_python.err\n",
      "  Server is running at http://127.0.0.1:54321\n",
      "Connecting to H2O server at http://127.0.0.1:54321 ... successful.\n"
     ]
    },
    {
     "data": {
      "text/html": [
       "\n",
       "<style>\n",
       "\n",
       "#h2o-table-1.h2o-container {\n",
       "  overflow-x: auto;\n",
       "}\n",
       "#h2o-table-1 .h2o-table {\n",
       "  /* width: 100%; */\n",
       "  margin-top: 1em;\n",
       "  margin-bottom: 1em;\n",
       "}\n",
       "#h2o-table-1 .h2o-table caption {\n",
       "  white-space: nowrap;\n",
       "  caption-side: top;\n",
       "  text-align: left;\n",
       "  /* margin-left: 1em; */\n",
       "  margin: 0;\n",
       "  font-size: larger;\n",
       "}\n",
       "#h2o-table-1 .h2o-table thead {\n",
       "  white-space: nowrap; \n",
       "  position: sticky;\n",
       "  top: 0;\n",
       "  box-shadow: 0 -1px inset;\n",
       "}\n",
       "#h2o-table-1 .h2o-table tbody {\n",
       "  overflow: auto;\n",
       "}\n",
       "#h2o-table-1 .h2o-table th,\n",
       "#h2o-table-1 .h2o-table td {\n",
       "  text-align: right;\n",
       "  /* border: 1px solid; */\n",
       "}\n",
       "#h2o-table-1 .h2o-table tr:nth-child(even) {\n",
       "  /* background: #F5F5F5 */\n",
       "}\n",
       "\n",
       "</style>      \n",
       "<div id=\"h2o-table-1\" class=\"h2o-container\">\n",
       "  <table class=\"h2o-table\">\n",
       "    <caption></caption>\n",
       "    <thead></thead>\n",
       "    <tbody><tr><td>H2O_cluster_uptime:</td>\n",
       "<td>02 secs</td></tr>\n",
       "<tr><td>H2O_cluster_timezone:</td>\n",
       "<td>Europe/Warsaw</td></tr>\n",
       "<tr><td>H2O_data_parsing_timezone:</td>\n",
       "<td>UTC</td></tr>\n",
       "<tr><td>H2O_cluster_version:</td>\n",
       "<td>3.40.0.1</td></tr>\n",
       "<tr><td>H2O_cluster_version_age:</td>\n",
       "<td>1 month and 19 days</td></tr>\n",
       "<tr><td>H2O_cluster_name:</td>\n",
       "<td>H2O_from_python_Eryk_9q87hb</td></tr>\n",
       "<tr><td>H2O_cluster_total_nodes:</td>\n",
       "<td>1</td></tr>\n",
       "<tr><td>H2O_cluster_free_memory:</td>\n",
       "<td>14 Gb</td></tr>\n",
       "<tr><td>H2O_cluster_total_cores:</td>\n",
       "<td>8</td></tr>\n",
       "<tr><td>H2O_cluster_allowed_cores:</td>\n",
       "<td>8</td></tr>\n",
       "<tr><td>H2O_cluster_status:</td>\n",
       "<td>locked, healthy</td></tr>\n",
       "<tr><td>H2O_connection_url:</td>\n",
       "<td>http://127.0.0.1:54321</td></tr>\n",
       "<tr><td>H2O_connection_proxy:</td>\n",
       "<td>{\"http\": null, \"https\": null}</td></tr>\n",
       "<tr><td>H2O_internal_security:</td>\n",
       "<td>False</td></tr>\n",
       "<tr><td>Python_version:</td>\n",
       "<td>3.9.10 final</td></tr></tbody>\n",
       "  </table>\n",
       "</div>\n"
      ],
      "text/plain": [
       "--------------------------  -----------------------------\n",
       "H2O_cluster_uptime:         02 secs\n",
       "H2O_cluster_timezone:       Europe/Warsaw\n",
       "H2O_data_parsing_timezone:  UTC\n",
       "H2O_cluster_version:        3.40.0.1\n",
       "H2O_cluster_version_age:    1 month and 19 days\n",
       "H2O_cluster_name:           H2O_from_python_Eryk_9q87hb\n",
       "H2O_cluster_total_nodes:    1\n",
       "H2O_cluster_free_memory:    14 Gb\n",
       "H2O_cluster_total_cores:    8\n",
       "H2O_cluster_allowed_cores:  8\n",
       "H2O_cluster_status:         locked, healthy\n",
       "H2O_connection_url:         http://127.0.0.1:54321\n",
       "H2O_connection_proxy:       {\"http\": null, \"https\": null}\n",
       "H2O_internal_security:      False\n",
       "Python_version:             3.9.10 final\n",
       "--------------------------  -----------------------------"
      ]
     },
     "metadata": {},
     "output_type": "display_data"
    }
   ],
   "source": [
    "h2o.init(min_mem_size=\"8G\", max_mem_size=\"14G\")"
   ]
  },
  {
   "cell_type": "code",
   "execution_count": null,
   "id": "e25f8649-820a-463f-b8d6-18e5f82c35e5",
   "metadata": {
    "tags": []
   },
   "outputs": [],
   "source": [
    "df = pd.read_csv(\"merge_dataset.csv\", sep=\"\\t\")\n",
    "df.drop(columns=[\n",
    "    \"Miasto\", \n",
    "    \"URL\",\n",
    "    \"Pietro\", \n",
    "    \"formatted_address\",\n",
    "    \"result_confidence\",\n",
    "    \"suburb\",\n",
    "    \"building_category\",\n",
    "    \"result_type\",\n",
    "    \"Dataset\"\n",
    "], inplace=True)"
   ]
  },
  {
   "cell_type": "code",
   "execution_count": 3,
   "id": "cea7b84f-06a9-4a56-80bc-2d2927983229",
   "metadata": {
    "tags": []
   },
   "outputs": [],
   "source": [
    "numeric_imputer = SimpleImputer(missing_values=np.nan, strategy=\"mean\")\n",
    "categorical_imputer = SimpleImputer(missing_values=np.nan, strategy=\"most_frequent\")\n",
    "binary_imputer = SimpleImputer(missing_values=np.nan, strategy=\"most_frequent\")\n",
    "categorical_encoder = OneHotEncoder(drop=\"first\")\n",
    "\n",
    "categorical_pipeline = Pipeline(\n",
    "    steps=[\n",
    "        (\"imputer\", categorical_imputer),\n",
    "        (\"encoder\", categorical_encoder)\n",
    "    ]\n",
    ")\n",
    "binary_pipeline = binary_imputer\n",
    "numeric_pipeline = numeric_imputer\n",
    "\n",
    "preprocessing = ColumnTransformer(\n",
    "    transformers=[\n",
    "        (\"num\", numeric_pipeline, make_column_selector(dtype_include=float)),\n",
    "        (\"cat\", categorical_pipeline, make_column_selector(dtype_include=object)),\n",
    "        (\"bin\", binary_pipeline, make_column_selector(dtype_include=int))\n",
    "    ]\n",
    ")"
   ]
  },
  {
   "cell_type": "code",
   "execution_count": null,
   "id": "47c204c6-744a-4635-b497-32b6a312a4d3",
   "metadata": {
    "tags": []
   },
   "outputs": [],
   "source": [
    "train, test = train_test_split(df, test_size=0.2, random_state=42)"
   ]
  },
  {
   "cell_type": "code",
   "execution_count": null,
   "id": "00bc60d8-c3b2-40dc-b770-a0a165dbe304",
   "metadata": {
    "tags": []
   },
   "outputs": [],
   "source": [
    "preprocessor = preprocessing.fit(train.iloc[:, 1:])\n",
    "num_features = list(preprocessing.named_transformers_[\"num\"].feature_names_in_)\n",
    "cat_features = list(preprocessing.named_transformers_[\"cat\"].steps[1][1].get_feature_names_out())\n",
    "bin_features = list(preprocessing.named_transformers_[\"bin\"].feature_names_in_)\n",
    "features = num_features + cat_features + bin_features"
   ]
  },
  {
   "cell_type": "code",
   "execution_count": null,
   "id": "5d44283a-91c8-4dc8-b406-14378bc957be",
   "metadata": {
    "tags": []
   },
   "outputs": [],
   "source": [
    "train_preprocessed = pd.DataFrame(preprocessor.transform(train.iloc[:, 1:]), columns=features)\n",
    "y_train = train.iloc[:, 0]\n",
    "test_preprocessed = pd.DataFrame(preprocessor.transform(test.iloc[:, 1:]), columns=features)\n",
    "y_test = test.iloc[:, 0]"
   ]
  },
  {
   "cell_type": "code",
   "execution_count": null,
   "id": "3a4301f2-ba86-44b2-95f4-de7d8c4a7f15",
   "metadata": {
    "tags": []
   },
   "outputs": [],
   "source": [
    "h2o_x_train = h2o.H2OFrame(train_preprocessed, column_names=features)\n",
    "h2o_y_train = h2o.H2OFrame(y_train.to_numpy(), column_names=[\"Cena\"])\n",
    "h2o_train = h2o_x_train\n",
    "h2o_train[\"Cena\"] = h2o_y_train\n",
    "h2o_x_test = h2o.H2OFrame(test_preprocessed, column_names=features)\n",
    "h2o_y_test = h2o.H2OFrame(y_test.to_numpy(), column_names=[\"Cena\"])\n",
    "h2o_test = h2o_x_test\n",
    "h2o_test[\"Cena\"] = h2o_y_test"
   ]
  },
  {
   "cell_type": "code",
   "execution_count": null,
   "id": "ec70a09e-5f2e-4d9a-a135-d3127cb9ee83",
   "metadata": {
    "tags": []
   },
   "outputs": [],
   "source": [
    "predictors = h2o_x_train.columns\n",
    "response = h2o_y_train.columns[0]"
   ]
  },
  {
   "cell_type": "code",
   "execution_count": null,
   "id": "8fddfda6-1ece-42fb-86eb-8478b34e241b",
   "metadata": {
    "tags": []
   },
   "outputs": [],
   "source": [
    "response"
   ]
  },
  {
   "cell_type": "markdown",
   "id": "9a39adae-6bb3-443b-ac4b-7de2b7382859",
   "metadata": {},
   "source": [
    "### Baseline models"
   ]
  },
  {
   "cell_type": "code",
   "execution_count": null,
   "id": "8178f936-d8c9-4d50-b14a-3dd90a3e8bde",
   "metadata": {},
   "outputs": [],
   "source": [
    "model = H2ORandomForestEstimator(seed=1)\n",
    "model.train(\n",
    "    x = predictors,\n",
    "    y = response,\n",
    "    training_frame = h2o_train,\n",
    "    validation_frame = h2o_test\n",
    ")\n",
    "print(model.model_performance())\n",
    "print(model.model_performance(h2o_test))\n",
    "print(model.r2())\n",
    "print(model.r2(valid=True))"
   ]
  },
  {
   "cell_type": "code",
   "execution_count": null,
   "id": "9d887076-a715-481b-b9ba-1122194d95dd",
   "metadata": {
    "tags": []
   },
   "outputs": [],
   "source": [
    "model = H2OGradientBoostingEstimator()\n",
    "model.train(\n",
    "    x = predictors,\n",
    "    y = response,\n",
    "    training_frame = h2o_train,\n",
    "    validation_frame = h2o_test\n",
    ")\n",
    "print(model.model_performance())\n",
    "print(model.model_performance(h2o_test))\n",
    "print(model.r2())\n",
    "print(model.r2(valid=True))"
   ]
  },
  {
   "cell_type": "code",
   "execution_count": null,
   "id": "def40360-aee6-44dc-b4a9-0c360724d007",
   "metadata": {
    "tags": []
   },
   "outputs": [],
   "source": [
    "model = H2OGeneralizedLinearEstimator(solver=\"COORDINATE_DESCENT_NAIVE\", alpha=1)\n",
    "model.train(\n",
    "    x = predictors,\n",
    "    y = response,\n",
    "    training_frame = h2o_train,\n",
    "    validation_frame = h2o_test\n",
    ")\n",
    "print(model.model_performance())\n",
    "print(model.model_performance(h2o_test))\n",
    "print(model.r2())\n",
    "print(model.r2(valid=True))"
   ]
  },
  {
   "cell_type": "code",
   "execution_count": null,
   "id": "8a086873-dfff-4711-87ce-4b2072035bc1",
   "metadata": {},
   "outputs": [],
   "source": [
    "model = H2ODeepLearningEstimator()\n",
    "model.train(\n",
    "    x = predictors,\n",
    "    y = response,\n",
    "    training_frame = h2o_x_train,\n",
    "    validation_frame = h2o_x_test\n",
    ")\n",
    "print(model.model_performance())\n",
    "print(model.model_performance(h2o_test))\n",
    "print(model.r2())\n",
    "print(model.r2(valid=True))"
   ]
  },
  {
   "cell_type": "markdown",
   "id": "94877a18-4997-4ad2-b4a6-424de6566fcf",
   "metadata": {},
   "source": [
    "## Outlier detection and data scaling"
   ]
  },
  {
   "cell_type": "code",
   "execution_count": 4,
   "id": "60a58d3b-81eb-463c-be1b-75063f2b8e1b",
   "metadata": {
    "tags": []
   },
   "outputs": [],
   "source": [
    "df = pd.read_csv(\"merge_dataset.csv\", sep=\"\\t\")\n",
    "df.drop(columns=[\n",
    "    \"Miasto\", \n",
    "    \"URL\",\n",
    "    \"Pietro\", \n",
    "    \"formatted_address\",\n",
    "    \"result_confidence\",\n",
    "    \"suburb\",\n",
    "    \"building_category\",\n",
    "    \"result_type\",\n",
    "    \"Dataset\"\n",
    "], inplace=True)"
   ]
  },
  {
   "cell_type": "code",
   "execution_count": 5,
   "id": "7d546cab-3513-40bd-af3d-b7936cbba834",
   "metadata": {
    "tags": []
   },
   "outputs": [],
   "source": [
    "train, test = train_test_split(df, test_size=0.2, random_state=42)\n",
    "train_outlier = train.copy()\n",
    "test_outlier = test.copy()\n",
    "train_outlier = train_outlier[(train_outlier[\"Cena\"]>250000)&(train_outlier[\"Cena\"]<4000000)]\n",
    "test_outlier = test_outlier[(test_outlier[\"Cena\"]>250000)&(test_outlier[\"Cena\"]<4000000)]\n",
    "train_outlier = train_outlier[(train_outlier[\"Powierzchnia\"]<300)]\n",
    "test_outlier = test_outlier[(test_outlier[\"Powierzchnia\"]<300)]"
   ]
  },
  {
   "cell_type": "code",
   "execution_count": 6,
   "id": "b056b9b1-fde2-4454-a159-d030e11bf2fd",
   "metadata": {
    "tags": []
   },
   "outputs": [],
   "source": [
    "preprocessor = preprocessing.fit(train_outlier.iloc[:, 1:])\n",
    "num_features = list(preprocessing.named_transformers_[\"num\"].feature_names_in_)\n",
    "cat_features = list(preprocessing.named_transformers_[\"cat\"].steps[1][1].get_feature_names_out())\n",
    "bin_features = list(preprocessing.named_transformers_[\"bin\"].feature_names_in_)\n",
    "features = num_features + cat_features + bin_features"
   ]
  },
  {
   "cell_type": "code",
   "execution_count": 7,
   "id": "f5785e73-ea35-4899-8855-da85cba7347d",
   "metadata": {
    "tags": []
   },
   "outputs": [],
   "source": [
    "train_preprocessed = pd.DataFrame(preprocessor.transform(train_outlier.iloc[:, 1:]), columns=features)\n",
    "y_train = train_outlier.iloc[:, 0]\n",
    "test_preprocessed = pd.DataFrame(preprocessor.transform(test_outlier.iloc[:, 1:]), columns=features)\n",
    "y_test = test_outlier.iloc[:, 0]"
   ]
  },
  {
   "cell_type": "code",
   "execution_count": 8,
   "id": "c073b5ab-165c-48f0-9106-31da1e6ea73f",
   "metadata": {
    "tags": []
   },
   "outputs": [
    {
     "name": "stdout",
     "output_type": "stream",
     "text": [
      "Parse progress: |████████████████████████████████████████████████████████████████| (done) 100%\n",
      "Parse progress: |████████████████████████████████████████████████████████████████| (done) 100%\n",
      "Parse progress: |████████████████████████████████████████████████████████████████| (done) 100%\n",
      "Parse progress: |████████████████████████████████████████████████████████████████| (done) 100%\n"
     ]
    }
   ],
   "source": [
    "h2o_x_train = h2o.H2OFrame(train_preprocessed, column_names=features)\n",
    "h2o_y_train = h2o.H2OFrame(y_train.to_numpy(), column_names=[\"Cena\"])\n",
    "h2o_train = h2o_x_train\n",
    "h2o_train[\"Cena\"] = h2o_y_train\n",
    "h2o_x_test = h2o.H2OFrame(test_preprocessed, column_names=features)\n",
    "h2o_y_test = h2o.H2OFrame(y_test.to_numpy(), column_names=[\"Cena\"])\n",
    "h2o_test = h2o_x_test\n",
    "h2o_test[\"Cena\"] = h2o_y_test"
   ]
  },
  {
   "cell_type": "code",
   "execution_count": 9,
   "id": "906ba104-eff6-4a97-be6b-175d6cfbd03e",
   "metadata": {
    "tags": []
   },
   "outputs": [],
   "source": [
    "predictors = h2o_x_train.columns\n",
    "response = h2o_y_train.columns[0]"
   ]
  },
  {
   "cell_type": "markdown",
   "id": "4eb64d3f-51eb-4124-ae3a-8cf863908933",
   "metadata": {},
   "source": [
    "### Random Forest"
   ]
  },
  {
   "cell_type": "code",
   "execution_count": null,
   "id": "5ff998e7-ce0a-4624-b8bc-bf0ee4882993",
   "metadata": {},
   "outputs": [],
   "source": [
    "model = H2ORandomForestEstimator(seed=1)\n",
    "model.train(\n",
    "    x = predictors,\n",
    "    y = response,\n",
    "    training_frame = h2o_train,\n",
    "    validation_frame = h2o_test\n",
    ")\n",
    "print(model.model_performance())\n",
    "print(model.model_performance(h2o_test))\n",
    "print(model.r2())\n",
    "print(model.r2(valid=True))"
   ]
  },
  {
   "cell_type": "code",
   "execution_count": 10,
   "id": "e10a21b8-d910-4049-862e-3ccbe13c9392",
   "metadata": {
    "tags": []
   },
   "outputs": [
    {
     "name": "stdout",
     "output_type": "stream",
     "text": [
      "drf Grid Build progress: |██████████████Job request failed Unexpected HTTP error: ('Connection aborted.', RemoteDisconnected('Remote end closed connection without response')), will retry after 3s.\n",
      " (failed)\n"
     ]
    },
    {
     "ename": "OSError",
     "evalue": "Job with key $03017f00000132d4ffffffff$_ae35ba79d214de2a1eec33d0ce424d2b failed with an exception: java.lang.OutOfMemoryError: Java heap space\nstacktrace: \njava.lang.OutOfMemoryError: Java heap space\r\n",
     "output_type": "error",
     "traceback": [
      "\u001b[1;31m---------------------------------------------------------------------------\u001b[0m",
      "\u001b[1;31mOSError\u001b[0m                                   Traceback (most recent call last)",
      "Cell \u001b[1;32mIn[10], line 24\u001b[0m\n\u001b[0;32m     17\u001b[0m rf \u001b[38;5;241m=\u001b[39m H2ORandomForestEstimator()\n\u001b[0;32m     18\u001b[0m rf_grid \u001b[38;5;241m=\u001b[39m H2OGridSearch(\n\u001b[0;32m     19\u001b[0m     model \u001b[38;5;241m=\u001b[39m rf, \n\u001b[0;32m     20\u001b[0m     hyper_params \u001b[38;5;241m=\u001b[39m hyper_params,\n\u001b[0;32m     21\u001b[0m     search_criteria \u001b[38;5;241m=\u001b[39m search_criteria\n\u001b[0;32m     22\u001b[0m )\n\u001b[1;32m---> 24\u001b[0m \u001b[43mrf_grid\u001b[49m\u001b[38;5;241;43m.\u001b[39;49m\u001b[43mtrain\u001b[49m\u001b[43m(\u001b[49m\n\u001b[0;32m     25\u001b[0m \u001b[43m    \u001b[49m\u001b[43mx\u001b[49m\u001b[43m \u001b[49m\u001b[38;5;241;43m=\u001b[39;49m\u001b[43m \u001b[49m\u001b[43mpredictors\u001b[49m\u001b[43m,\u001b[49m\n\u001b[0;32m     26\u001b[0m \u001b[43m    \u001b[49m\u001b[43my\u001b[49m\u001b[43m \u001b[49m\u001b[38;5;241;43m=\u001b[39;49m\u001b[43m \u001b[49m\u001b[43mresponse\u001b[49m\u001b[43m,\u001b[49m\n\u001b[0;32m     27\u001b[0m \u001b[43m    \u001b[49m\u001b[43mtraining_frame\u001b[49m\u001b[43m \u001b[49m\u001b[38;5;241;43m=\u001b[39;49m\u001b[43m \u001b[49m\u001b[43mh2o_x_train\u001b[49m\u001b[43m,\u001b[49m\n\u001b[0;32m     28\u001b[0m \u001b[43m    \u001b[49m\u001b[43mvalidation_frame\u001b[49m\u001b[43m \u001b[49m\u001b[38;5;241;43m=\u001b[39;49m\u001b[43m \u001b[49m\u001b[43mh2o_x_test\u001b[49m\n\u001b[0;32m     29\u001b[0m \u001b[43m)\u001b[49m\n",
      "File \u001b[1;32m~\\PycharmProjects\\webScraping\\venv\\lib\\site-packages\\h2o\\grid\\grid_search.py:355\u001b[0m, in \u001b[0;36mH2OGridSearch.train\u001b[1;34m(self, x, y, training_frame, offset_column, fold_column, weights_column, validation_frame, **params)\u001b[0m\n\u001b[0;32m    353\u001b[0m x \u001b[38;5;241m=\u001b[39m \u001b[38;5;28mlist\u001b[39m(xset)\n\u001b[0;32m    354\u001b[0m parms[\u001b[38;5;124m\"\u001b[39m\u001b[38;5;124mx\u001b[39m\u001b[38;5;124m\"\u001b[39m] \u001b[38;5;241m=\u001b[39m x\n\u001b[1;32m--> 355\u001b[0m \u001b[38;5;28;43mself\u001b[39;49m\u001b[38;5;241;43m.\u001b[39;49m\u001b[43mbuild_model\u001b[49m\u001b[43m(\u001b[49m\u001b[43mparms\u001b[49m\u001b[43m)\u001b[49m\n\u001b[0;32m    356\u001b[0m \u001b[38;5;28;01mreturn\u001b[39;00m \u001b[38;5;28mself\u001b[39m\n",
      "File \u001b[1;32m~\\PycharmProjects\\webScraping\\venv\\lib\\site-packages\\h2o\\grid\\grid_search.py:392\u001b[0m, in \u001b[0;36mH2OGridSearch.build_model\u001b[1;34m(self, algo_params)\u001b[0m\n\u001b[0;32m    390\u001b[0m \u001b[38;5;28;01melse\u001b[39;00m:\n\u001b[0;32m    391\u001b[0m     \u001b[38;5;28mself\u001b[39m\u001b[38;5;241m.\u001b[39mmodel\u001b[38;5;241m.\u001b[39m_estimator_type \u001b[38;5;241m=\u001b[39m \u001b[38;5;124m\"\u001b[39m\u001b[38;5;124munsupervised\u001b[39m\u001b[38;5;124m\"\u001b[39m\n\u001b[1;32m--> 392\u001b[0m \u001b[38;5;28;43mself\u001b[39;49m\u001b[38;5;241;43m.\u001b[39;49m\u001b[43m_model_build\u001b[49m\u001b[43m(\u001b[49m\u001b[43mx\u001b[49m\u001b[43m,\u001b[49m\u001b[43m \u001b[49m\u001b[43my\u001b[49m\u001b[43m,\u001b[49m\u001b[43m \u001b[49m\u001b[43mtraining_frame\u001b[49m\u001b[43m,\u001b[49m\u001b[43m \u001b[49m\u001b[43mvalidation_frame\u001b[49m\u001b[43m,\u001b[49m\u001b[43m \u001b[49m\u001b[43malgo_params\u001b[49m\u001b[43m)\u001b[49m\n",
      "File \u001b[1;32m~\\PycharmProjects\\webScraping\\venv\\lib\\site-packages\\h2o\\grid\\grid_search.py:410\u001b[0m, in \u001b[0;36mH2OGridSearch._model_build\u001b[1;34m(self, x, y, tframe, vframe, kwargs)\u001b[0m\n\u001b[0;32m    408\u001b[0m \u001b[38;5;28;01mif\u001b[39;00m \u001b[38;5;28mself\u001b[39m\u001b[38;5;241m.\u001b[39mgrid_id \u001b[38;5;129;01mis\u001b[39;00m \u001b[38;5;129;01mnot\u001b[39;00m \u001b[38;5;28;01mNone\u001b[39;00m: kwargs[\u001b[38;5;124m\"\u001b[39m\u001b[38;5;124mgrid_id\u001b[39m\u001b[38;5;124m\"\u001b[39m] \u001b[38;5;241m=\u001b[39m \u001b[38;5;28mself\u001b[39m\u001b[38;5;241m.\u001b[39mgrid_id\n\u001b[0;32m    409\u001b[0m rest_ver \u001b[38;5;241m=\u001b[39m kwargs\u001b[38;5;241m.\u001b[39mpop(\u001b[38;5;124m\"\u001b[39m\u001b[38;5;124m_rest_version\u001b[39m\u001b[38;5;124m\"\u001b[39m) \u001b[38;5;28;01mif\u001b[39;00m \u001b[38;5;124m\"\u001b[39m\u001b[38;5;124m_rest_version\u001b[39m\u001b[38;5;124m\"\u001b[39m \u001b[38;5;129;01min\u001b[39;00m kwargs \u001b[38;5;28;01melse\u001b[39;00m \u001b[38;5;28;01mNone\u001b[39;00m\n\u001b[1;32m--> 410\u001b[0m \u001b[38;5;28;43mself\u001b[39;49m\u001b[38;5;241;43m.\u001b[39;49m\u001b[43m_run_grid_job\u001b[49m\u001b[43m(\u001b[49m\u001b[43mkwargs\u001b[49m\u001b[43m,\u001b[49m\u001b[43m \u001b[49m\u001b[43mrest_ver\u001b[49m\u001b[38;5;241;43m=\u001b[39;49m\u001b[43mrest_ver\u001b[49m\u001b[43m)\u001b[49m\n",
      "File \u001b[1;32m~\\PycharmProjects\\webScraping\\venv\\lib\\site-packages\\h2o\\grid\\grid_search.py:419\u001b[0m, in \u001b[0;36mH2OGridSearch._run_grid_job\u001b[1;34m(self, params, end_point, rest_ver)\u001b[0m\n\u001b[0;32m    417\u001b[0m \u001b[38;5;28;01melse\u001b[39;00m:\n\u001b[0;32m    418\u001b[0m     \u001b[38;5;28;01mtry\u001b[39;00m:\n\u001b[1;32m--> 419\u001b[0m         \u001b[43mgrid\u001b[49m\u001b[38;5;241;43m.\u001b[39;49m\u001b[43mpoll\u001b[49m\u001b[43m(\u001b[49m\u001b[43m)\u001b[49m\n\u001b[0;32m    420\u001b[0m         \u001b[38;5;28mself\u001b[39m\u001b[38;5;241m.\u001b[39m_handle_build_finish(grid, rest_ver)\n\u001b[0;32m    421\u001b[0m     \u001b[38;5;28;01mexcept\u001b[39;00m H2OJobCancelled:\n",
      "File \u001b[1;32m~\\PycharmProjects\\webScraping\\venv\\lib\\site-packages\\h2o\\job.py:90\u001b[0m, in \u001b[0;36mH2OJob.poll\u001b[1;34m(self, poll_updates)\u001b[0m\n\u001b[0;32m     88\u001b[0m \u001b[38;5;28;01mif\u001b[39;00m \u001b[38;5;28mself\u001b[39m\u001b[38;5;241m.\u001b[39mstatus \u001b[38;5;241m==\u001b[39m \u001b[38;5;124m\"\u001b[39m\u001b[38;5;124mFAILED\u001b[39m\u001b[38;5;124m\"\u001b[39m:\n\u001b[0;32m     89\u001b[0m     \u001b[38;5;28;01mif\u001b[39;00m (\u001b[38;5;28misinstance\u001b[39m(\u001b[38;5;28mself\u001b[39m\u001b[38;5;241m.\u001b[39mjob, \u001b[38;5;28mdict\u001b[39m)) \u001b[38;5;129;01mand\u001b[39;00m (\u001b[38;5;124m\"\u001b[39m\u001b[38;5;124mstacktrace\u001b[39m\u001b[38;5;124m\"\u001b[39m \u001b[38;5;129;01min\u001b[39;00m \u001b[38;5;28mlist\u001b[39m(\u001b[38;5;28mself\u001b[39m\u001b[38;5;241m.\u001b[39mjob)):\n\u001b[1;32m---> 90\u001b[0m         \u001b[38;5;28;01mraise\u001b[39;00m \u001b[38;5;167;01mEnvironmentError\u001b[39;00m(\u001b[38;5;124m\"\u001b[39m\u001b[38;5;124mJob with key \u001b[39m\u001b[38;5;132;01m{}\u001b[39;00m\u001b[38;5;124m failed with an exception: \u001b[39m\u001b[38;5;132;01m{}\u001b[39;00m\u001b[38;5;130;01m\\n\u001b[39;00m\u001b[38;5;124mstacktrace: \u001b[39m\u001b[38;5;124m\"\u001b[39m\n\u001b[0;32m     91\u001b[0m                                \u001b[38;5;124m\"\u001b[39m\u001b[38;5;130;01m\\n\u001b[39;00m\u001b[38;5;132;01m{}\u001b[39;00m\u001b[38;5;124m\"\u001b[39m\u001b[38;5;241m.\u001b[39mformat(\u001b[38;5;28mself\u001b[39m\u001b[38;5;241m.\u001b[39mjob_key, \u001b[38;5;28mself\u001b[39m\u001b[38;5;241m.\u001b[39mexception, \u001b[38;5;28mself\u001b[39m\u001b[38;5;241m.\u001b[39mjob[\u001b[38;5;124m\"\u001b[39m\u001b[38;5;124mstacktrace\u001b[39m\u001b[38;5;124m\"\u001b[39m]))\n\u001b[0;32m     92\u001b[0m     \u001b[38;5;28;01melse\u001b[39;00m:\n\u001b[0;32m     93\u001b[0m         \u001b[38;5;28;01mraise\u001b[39;00m \u001b[38;5;167;01mEnvironmentError\u001b[39;00m(\u001b[38;5;124m\"\u001b[39m\u001b[38;5;124mJob with key \u001b[39m\u001b[38;5;132;01m%s\u001b[39;00m\u001b[38;5;124m failed with an exception: \u001b[39m\u001b[38;5;132;01m%s\u001b[39;00m\u001b[38;5;124m\"\u001b[39m \u001b[38;5;241m%\u001b[39m (\u001b[38;5;28mself\u001b[39m\u001b[38;5;241m.\u001b[39mjob_key, \u001b[38;5;28mself\u001b[39m\u001b[38;5;241m.\u001b[39mexception))\n",
      "\u001b[1;31mOSError\u001b[0m: Job with key $03017f00000132d4ffffffff$_ae35ba79d214de2a1eec33d0ce424d2b failed with an exception: java.lang.OutOfMemoryError: Java heap space\nstacktrace: \njava.lang.OutOfMemoryError: Java heap space\r\n"
     ]
    }
   ],
   "source": [
    "hyper_params = {\n",
    "    \"ntrees\": [int(x) for x in np.linspace(start = 200, stop = 2000, num = 10)],\n",
    "    'max_depth' : [int(x) for x in np.linspace(10, 200, num = 5)],\n",
    "     \"min_rows\": [1, 2, 4, 8, 16],\n",
    "    'sample_rate': [x/100. for x in range(20,101)],\n",
    "    'nbins' : [1, 2, 6, 10, 20, 50, 100],\n",
    "    \"seed\": [1]\n",
    "}\n",
    "\n",
    "search_criteria = { \n",
    "    \"strategy\":\"RandomDiscrete\",   # Can be also cartesian                      \n",
    "    'max_runtime_secs': 14400, # 4h   14400 \n",
    "    'max_models': 300,  ## build no more than 100 models\n",
    "    'seed' : 1\n",
    "}\n",
    "\n",
    "rf = H2ORandomForestEstimator()\n",
    "rf_grid = H2OGridSearch(\n",
    "    model = rf, \n",
    "    hyper_params = hyper_params,\n",
    "    search_criteria = search_criteria\n",
    ")\n",
    "\n",
    "rf_grid.train(\n",
    "    x = predictors,\n",
    "    y = response,\n",
    "    training_frame = h2o_x_train,\n",
    "    validation_frame = h2o_x_test\n",
    ")"
   ]
  },
  {
   "cell_type": "code",
   "execution_count": null,
   "id": "f71ff7aa-38ac-46b3-96ec-8f6630b35931",
   "metadata": {
    "tags": []
   },
   "outputs": [],
   "source": [
    "rf_grid.models"
   ]
  },
  {
   "cell_type": "code",
   "execution_count": null,
   "id": "e180639a-dc0e-4045-b3cc-508eb6bc0407",
   "metadata": {
    "tags": []
   },
   "outputs": [],
   "source": [
    "print(rf_grid.model_performance())\n",
    "print(rf_grid.model_performance(h2o_test))\n",
    "print(rf_grid.r2())\n",
    "print(rf_grid.r2(valid=True))"
   ]
  },
  {
   "cell_type": "markdown",
   "id": "011c179c-e0a1-4fb9-b67a-2484543d4fdd",
   "metadata": {},
   "source": [
    "## Gradient Boosting Regressor"
   ]
  },
  {
   "cell_type": "code",
   "execution_count": null,
   "id": "9b798099-73b9-41aa-8b7e-fb388910259d",
   "metadata": {
    "tags": []
   },
   "outputs": [],
   "source": [
    "model = H2OGradientBoostingEstimator()\n",
    "model.train(\n",
    "    x = predictors,\n",
    "    y = response,\n",
    "    training_frame = h2o_x_train,\n",
    "    validation_frame = h2o_x_test\n",
    ")\n",
    "print(model.model_performance())\n",
    "print(model.model_performance(h2o_test))\n",
    "print(model.r2())\n",
    "print(model.r2(valid=True))"
   ]
  },
  {
   "cell_type": "code",
   "execution_count": null,
   "id": "03adc1b3-971a-4e23-ad3a-229534058d54",
   "metadata": {},
   "outputs": [],
   "source": [
    "hyper_params = {\n",
    "    'max_depth' : [int(x) for x in np.linspace(start = 1, stop = 200, num = 5)],\n",
    "    \"ntrees\": [int(x) for x in np.linspace(start = 10, stop = 2000, num = 10)],\n",
    "    \"min_rows\": [int(x) for x in np.linspace(start = 2, stop = 30, num = 1)],\n",
    "    'learn_rate': [0.00001, 0.0001, 0.001, 0.01, 0.1, 0.25, 0.5, 1],\n",
    "    \"min_split_improvement\": [0.000000001, 0.00000001, 0.0000001, 0.000001, 0.0001, 0.001, 0.01, 0.1, 0.3],\n",
    "    'sample_rate': [x/100. for x in range(20,101)],\n",
    "    'col_sample_rate' : [x/100. for x in range(20,101)],\n",
    "    \"seed\": [1]\n",
    "}\n",
    "grid_id = 'max_depth_grid'\n",
    "search_criteria = { \n",
    "    \"strategy\":\"RandomDiscrete\",                         \n",
    "    'max_runtime_secs': 120, #15 min     \n",
    "    'max_models': 100,  ## build no more than 100 models\n",
    "    'seed' : 1\n",
    "}\n",
    "\n",
    "tree = H2OGradientBoostingEstimator()\n",
    "xgb_grid = H2OGridSearch(\n",
    "    model = tree, \n",
    "    hyper_params = hyper_params,\n",
    "    grid_id = grid_id,\n",
    "    search_criteria = search_criteria\n",
    ")\n",
    "\n",
    "xgb_grid.train(\n",
    "    x = predictors,\n",
    "    y = response,\n",
    "    training_frame = h2o_x_train,\n",
    "    validation_frame = h2o_x_test\n",
    ")"
   ]
  },
  {
   "cell_type": "code",
   "execution_count": null,
   "id": "2d5f4546-5a95-404d-8cc8-81ab8f92d8c0",
   "metadata": {
    "tags": []
   },
   "outputs": [],
   "source": [
    "h2o.save_model(xgb_grid.models[0], path=\"h2o_models/xgb_frid\", force=True)"
   ]
  },
  {
   "cell_type": "code",
   "execution_count": null,
   "id": "b6903fc2-00ae-425a-9fec-25279ea89043",
   "metadata": {
    "tags": []
   },
   "outputs": [],
   "source": [
    "print(xgb_grid.model_performance())\n",
    "print(xgb_grid.model_performance(h2o_test))\n",
    "print(xgb_grid.r2())\n",
    "print(xgb_grid.r2(valid=True))"
   ]
  },
  {
   "cell_type": "code",
   "execution_count": null,
   "id": "200d656d-30e5-4bc1-92ad-78239343cabc",
   "metadata": {},
   "outputs": [],
   "source": [
    "best_tree = xgb_grid.models[0]\n",
    "print(best_tree.model_performance(h2o_x_test))\n",
    "print(best_tree.r2())\n",
    "print(best_tree.r2(valid=True))"
   ]
  },
  {
   "cell_type": "code",
   "execution_count": null,
   "id": "01032b3b-aba3-4866-98a7-72a8a85f5273",
   "metadata": {},
   "outputs": [],
   "source": []
  },
  {
   "cell_type": "code",
   "execution_count": null,
   "id": "2afe1851-ea0f-45f9-935c-8dde2ebb9156",
   "metadata": {},
   "outputs": [],
   "source": [
    "tree.varimp_plot()"
   ]
  },
  {
   "cell_type": "code",
   "execution_count": null,
   "id": "8b6600b9-9a37-4433-a8b0-3723c5f0b12c",
   "metadata": {},
   "outputs": [],
   "source": [
    "### Deep learning"
   ]
  },
  {
   "cell_type": "code",
   "execution_count": null,
   "id": "b62307c7-7f28-4417-a724-a6b9d2b98b32",
   "metadata": {},
   "outputs": [],
   "source": [
    "model = H2ODeepLearningEstimator()\n",
    "model.train(\n",
    "    x = predictors,\n",
    "    y = response,\n",
    "    training_frame = h2o_x_train,\n",
    "    validation_frame = h2o_x_test\n",
    ")\n",
    "print(model.model_performance())\n",
    "print(model.model_performance(h2o_test))\n",
    "print(model.r2())\n",
    "print(model.r2(valid=True))"
   ]
  },
  {
   "cell_type": "code",
   "execution_count": null,
   "id": "5f4c180a-94c7-4361-8b21-bf1654a43753",
   "metadata": {},
   "outputs": [],
   "source": [
    "hyper_params = {\n",
    "    \"activation\": [\"Rectifier\", \"Maxout\", \"Tanh\", \"RectifierWithDropout\", \"MaxoutWithDropout\", \"TanhWithDropout\"],\n",
    "    \"hidden\": [(20,), (50,), (100,), (250,), (500,), (1000,), (2500,), (20, 20), (50, 50), (100, 100), (250, 250), (500, 500), (1000, 1000), (2500, 2500)],\n",
    "    \"epochs\": [10, 25, 50, 100, 200, 500],\n",
    "    \"rho\": [0.8, 0.9, 0.95, 0.99, 0.999],\n",
    "    \"rate\": [0.5, 0.25, 0, 0.1, 0.005, 0.001]\n",
    "    \"momentum_start\": [0, 0.25, 0.5, 1],\n",
    "    \"momentum_stable\": [0, 0.25, 0.5, 1],\n",
    "    \"input_dropout_ratio \": [0, 0.1, 0.2, 0.5, 0.75],\n",
    "    \"epsilon\": [1e-10, 1e-8, 1e-6, 1e-4]\n",
    "    \"max_w2\": [10, 100, 1000, 3.4028235e+38],\n",
    "    \"l1\": [0, 0.00001, 0.0001, 0.001, 0.01, 0.1, 0.25],\n",
    "    \"l2\": [0, 0.00001, 0.0001, 0.001, 0.01, 0.1, 0.25],\n",
    "    \"seed\": [1]\n",
    "}\n",
    "grid_id = 'max_depth_grid'\n",
    "search_criteria = { \n",
    "    \"strategy\":\"RandomDiscrete\",                         \n",
    "    'max_runtime_secs': 900, #15 min     \n",
    "    'max_models': 100,  ## build no more than 100 models\n",
    "    'seed' : 1\n",
    "}\n",
    "\n",
    "tree = H2ODeepLearningEstimator()\n",
    "mlp_grid = H2OGridSearch(\n",
    "    model = tree, \n",
    "    hyper_params = hyper_params,\n",
    "    grid_id = grid_id,\n",
    "    search_criteria = search_criteria\n",
    ")\n",
    "\n",
    "mlp_grid.train(\n",
    "    x = predictors,\n",
    "    y = response,\n",
    "    training_frame = h2o_x_train,\n",
    "    validation_frame = h2o_x_test\n",
    ")"
   ]
  }
 ],
 "metadata": {
  "kernelspec": {
   "display_name": "Python 3 (ipykernel)",
   "language": "python",
   "name": "python3"
  },
  "language_info": {
   "codemirror_mode": {
    "name": "ipython",
    "version": 3
   },
   "file_extension": ".py",
   "mimetype": "text/x-python",
   "name": "python",
   "nbconvert_exporter": "python",
   "pygments_lexer": "ipython3",
   "version": "3.9.10"
  }
 },
 "nbformat": 4,
 "nbformat_minor": 5
}
