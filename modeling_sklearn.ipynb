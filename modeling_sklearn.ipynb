{
 "cells": [
  {
   "cell_type": "code",
   "execution_count": null,
   "id": "e27c2a27-88bc-4a4a-bc7b-1ecb36f7f9a1",
   "metadata": {
    "tags": []
   },
   "outputs": [],
   "source": [
    "from sklearn.model_selection import train_test_split\n",
    "from sklearn.impute import SimpleImputer\n",
    "from sklearn.compose import ColumnTransformer\n",
    "from sklearn.compose import make_column_selector\n",
    "from sklearn.preprocessing import OneHotEncoder\n",
    "from sklearn.preprocessing import FunctionTransformer\n",
    "from sklearn.ensemble import GradientBoostingRegressor\n",
    "from sklearn.ensemble import RandomForestRegressor\n",
    "from sklearn.pipeline import Pipeline\n",
    "from sklearn.linear_model import LinearRegression\n",
    "from sklearn.linear_model import BayesianRidge\n",
    "from sklearn.linear_model import Lasso\n",
    "from sklearn.tree import DecisionTreeRegressor\n",
    "from sklearn.neural_network import MLPRegressor\n",
    "from sklearn.model_selection import StratifiedKFold\n",
    "from sklearn.metrics import r2_score \n",
    "from sklearn.metrics import mean_squared_error\n",
    "from sklearn.metrics import mean_absolute_error\n",
    "from sklearn.metrics import mean_absolute_percentage_error\n",
    "from sklearn.model_selection import RandomizedSearchCV\n",
    "from sklearn.svm import SVR\n",
    "from sklearn.neural_network import MLPRegressor\n",
    "\n",
    "import pandas as pd\n",
    "import pickle\n",
    "import numpy as np\n",
    "import joblib\n",
    "import matplotlib.pyplot as plt\n",
    "import seaborn as sns\n",
    "\n",
    "pd.set_option('display.max_columns', None)\n",
    "pd.set_option('display.max_rows', None)\n",
    "pd.options.display.float_format = '{:.2f}'.format"
   ]
  },
  {
   "cell_type": "code",
   "execution_count": null,
   "id": "8558d6b9-9626-4f21-bfe1-69893e2a748e",
   "metadata": {
    "tags": []
   },
   "outputs": [],
   "source": [
    "df = pd.read_csv(\"merge_dataset.csv\", sep=\"\\t\")\n",
    "df.drop(columns=[\n",
    "    \"Miasto\", \n",
    "    \"URL\",\n",
    "    \"Pietro\", \n",
    "    \"formatted_address\",\n",
    "    \"result_confidence\",\n",
    "    \"suburb\",\n",
    "    \"building_category\",\n",
    "    \"result_type\",\n",
    "    \"Dataset\"\n",
    "], inplace=True)"
   ]
  },
  {
   "cell_type": "code",
   "execution_count": null,
   "id": "72525bf0-8408-4007-8233-07d288031c77",
   "metadata": {
    "tags": []
   },
   "outputs": [],
   "source": [
    "df1 = df.drop(columns=[\"Rynek\", \"Stan wykonczenia\"])\n",
    "df1.fillna(0, inplace=True)\n",
    "x_train, x_test, y_train, y_test = train_test_split(df1.iloc[:, 1:], df1[\"Cena\"], test_size=0.2, random_state=42)"
   ]
  },
  {
   "cell_type": "markdown",
   "id": "8e0b5431-f69c-412a-9882-51925cfe3b09",
   "metadata": {},
   "source": [
    "### Baseline models"
   ]
  },
  {
   "cell_type": "code",
   "execution_count": null,
   "id": "54cccd8d-7c68-48fc-99f5-1f5a82ceeb75",
   "metadata": {
    "tags": []
   },
   "outputs": [],
   "source": [
    "def print_metrics(model, x_train, x_test, y_train, y_test):\n",
    "    print( model.get_params())\n",
    "    print(\"Train dataset\")\n",
    "    y_predicted = model.predict(x_train)\n",
    "    print(\"R2: \", r2_score(y_train, y_predicted))\n",
    "    print(\"Mean squared error: \",  mean_squared_error(y_train, y_predicted))\n",
    "    print(\"Root mean squared error: \",  mean_squared_error(y_train, y_predicted, squared=False))\n",
    "    print(\"Mean absolute error: \",  mean_absolute_error(y_train, y_predicted))\n",
    "    print(\"Mean absolute percentage error: \",  mean_absolute_percentage_error(y_train, y_predicted))\n",
    "    print(\"Test dataset\")\n",
    "    y_predicted = model.predict(x_test)\n",
    "    print(\"R2: \", r2_score(y_test, y_predicted))\n",
    "    print(\"Mean squared error: \",  mean_squared_error(y_test, y_predicted))\n",
    "    print(\"Root mean squared error: \",  mean_squared_error(y_test, y_predicted, squared=False))\n",
    "    print(\"Mean absolute error: \",  mean_absolute_error(y_test, y_predicted))\n",
    "    print(\"Mean absolute percentage error: \",  mean_absolute_percentage_error(y_test, y_predicted))"
   ]
  },
  {
   "cell_type": "code",
   "execution_count": null,
   "id": "acfcad92-0969-4f9b-b1b7-69401d680c60",
   "metadata": {
    "tags": []
   },
   "outputs": [],
   "source": [
    "model = RandomForestRegressor().fit(x_train, y_train)\n",
    "print_metrics(model, x_train, x_test, y_train, y_test)"
   ]
  },
  {
   "cell_type": "code",
   "execution_count": null,
   "id": "f0cf16c2-cf71-42d1-a621-408f28da5508",
   "metadata": {
    "tags": []
   },
   "outputs": [],
   "source": [
    "model = GradientBoostingRegressor().fit(x_train, y_train)\n",
    "print_metrics(model, x_train, x_test, y_train, y_test)"
   ]
  },
  {
   "cell_type": "code",
   "execution_count": null,
   "id": "531c27fc-821d-4166-806d-2eefe71048b3",
   "metadata": {
    "tags": []
   },
   "outputs": [],
   "source": [
    "model = LinearRegression().fit(x_train, y_train)\n",
    "r2 = r2_score(y_train, model.predict(x_train))\n",
    "mse = mean_squared_error(y_train, model.predict(x_train))\n",
    "print(r2)\n",
    "print(mse)\n",
    "r2 = r2_score(y_test, model.predict(x_test))\n",
    "mse = mean_squared_error(y_test, model.predict(x_test))\n",
    "print(r2)\n",
    "print(mse)"
   ]
  },
  {
   "cell_type": "code",
   "execution_count": null,
   "id": "f375885f-105a-439a-9c9c-b2d4cb447d21",
   "metadata": {
    "tags": []
   },
   "outputs": [],
   "source": [
    "model = MLPRegressor().fit(x_train, y_train)\n",
    "print_metrics(model, x_train, x_test, y_train, y_test)"
   ]
  },
  {
   "cell_type": "code",
   "execution_count": null,
   "id": "5d15c7ee-4545-4234-86cf-9585cd22898c",
   "metadata": {},
   "outputs": [],
   "source": [
    "model = SVR().fit(x_train, y_train)\n",
    "r2 = r2_score(y_train, model.predict(x_train))\n",
    "mse = mean_squared_error(y_train, model.predict(x_train))\n",
    "print(r2)\n",
    "print(mse)\n",
    "r2 = r2_score(y_test, model.predict(x_test))\n",
    "mse = mean_squared_error(y_test, model.predict(x_test))\n",
    "print(r2)\n",
    "print(mse)"
   ]
  },
  {
   "cell_type": "markdown",
   "id": "82d1659c-aaf1-46b8-8ae6-db19b0294d0b",
   "metadata": {},
   "source": [
    "### Outlier detection and data scaling"
   ]
  },
  {
   "cell_type": "code",
   "execution_count": null,
   "id": "659f7cd3-1b47-4e95-a9f9-cf989c340ace",
   "metadata": {
    "tags": []
   },
   "outputs": [],
   "source": [
    "df = pd.read_csv(\"merge_dataset.csv\", sep=\"\\t\")\n",
    "df.drop(columns=[\n",
    "    \"Miasto\", \n",
    "    \"URL\",\n",
    "    \"Pietro\", \n",
    "    \"formatted_address\",\n",
    "    \"result_confidence\",\n",
    "    \"suburb\",\n",
    "    \"building_category\",\n",
    "    \"result_type\",\n",
    "    \"Dataset\"\n",
    "], inplace=True)"
   ]
  },
  {
   "cell_type": "code",
   "execution_count": null,
   "id": "3691b2eb-7f05-409b-bbca-e5c87c91a352",
   "metadata": {},
   "outputs": [],
   "source": [
    "t_suma = pd.qcut(df['Cena'], 30, retbins=True, duplicates='drop')[1]  \n",
    "t_suma"
   ]
  },
  {
   "cell_type": "code",
   "execution_count": null,
   "id": "2a053766-4f4f-4e9d-8795-28fdbfc3fedf",
   "metadata": {
    "tags": []
   },
   "outputs": [],
   "source": [
    "sns.histplot(df['Cena'], color = 'r', bins=100)\n",
    "plt.title('Sale Price Distribution', fontsize = 16)\n",
    "plt.xlabel('Sale Price', fontsize = 14)\n",
    "plt.ylabel('Frequency', fontsize = 14)\n",
    "plt.xticks(fontsize = 12)\n",
    "plt.yticks(fontsize = 12)\n",
    "plt.show()"
   ]
  },
  {
   "cell_type": "code",
   "execution_count": null,
   "id": "5562b70f-b9ea-4e4c-bd75-9201704e5abd",
   "metadata": {
    "tags": []
   },
   "outputs": [],
   "source": [
    "df = df[(df[\"Cena\"]>250000)&(df[\"Cena\"]<4000000)]"
   ]
  },
  {
   "cell_type": "code",
   "execution_count": null,
   "id": "72e86a86-d4f2-42fe-a1e4-49b93f575631",
   "metadata": {
    "tags": []
   },
   "outputs": [],
   "source": [
    "sns.histplot(df['Cena'], color = 'r', bins=100)\n",
    "plt.title('Sale Price Distribution', fontsize = 16)\n",
    "plt.xlabel('Sale Price', fontsize = 14)\n",
    "plt.ylabel('Frequency', fontsize = 14)\n",
    "plt.xticks(fontsize = 12)\n",
    "plt.yticks(fontsize = 12)\n",
    "plt.show()"
   ]
  },
  {
   "cell_type": "code",
   "execution_count": null,
   "id": "9c3dc6af-93bb-4bb6-9429-3fe1741fd618",
   "metadata": {
    "tags": []
   },
   "outputs": [],
   "source": [
    "sns.scatterplot(data=df, x=\"Cena\", y=\"Powierzchnia\", color = 'orange', edgecolor = 'b', s = 15)\n",
    "plt.title('{} / Sale Price'.format(\"Powierzchnia\"), fontsize = 16)\n",
    "# plt.xlabel('{}'.format(i[0]), fontsize = 14)\n",
    "plt.ylabel('Powierzchnia', fontsize = 14)\n",
    "plt.xticks(fontsize = 12)\n",
    "plt.yticks(fontsize = 12)\n",
    "# plt.savefig('scatter1.png')\n",
    "plt.show()"
   ]
  },
  {
   "cell_type": "code",
   "execution_count": null,
   "id": "cc29a1fa-a0c0-4ddf-911c-036bf21bca11",
   "metadata": {
    "tags": []
   },
   "outputs": [],
   "source": [
    "df = df[(df[\"Powierzchnia\"]<300)]"
   ]
  },
  {
   "cell_type": "code",
   "execution_count": null,
   "id": "3fa1a609-c3af-43fe-98ff-bbb1c475c412",
   "metadata": {
    "tags": []
   },
   "outputs": [],
   "source": [
    "sns.scatterplot(data=df, x=\"Cena\", y=\"Powierzchnia\", color = 'orange', edgecolor = 'b', s = 15)\n",
    "plt.title('{} / Sale Price'.format(\"Powierzchnia\"), fontsize = 16)\n",
    "# plt.xlabel('{}'.format(i[0]), fontsize = 14)\n",
    "plt.ylabel('Powierzchnia', fontsize = 14)\n",
    "plt.xticks(fontsize = 12)\n",
    "plt.yticks(fontsize = 12)\n",
    "# plt.savefig('scatter1.png')\n",
    "plt.show()"
   ]
  },
  {
   "cell_type": "code",
   "execution_count": null,
   "id": "11bffefc-035e-4a70-a252-669698b84fbe",
   "metadata": {},
   "outputs": [],
   "source": [
    "fig, ax = plt.subplots(figsize=(7, 7))\n",
    "sns.heatmap(x_train.corr(), vmax=1, center=0, fmt='.2f', square=True, linewidths=.5, cmap='coolwarm', annot=True)\n",
    "ax.set_ylim(len(x_train.columns))\n",
    "plt.xticks(rotation = 90, fontsize=8)\n",
    "plt.show()"
   ]
  },
  {
   "cell_type": "code",
   "execution_count": null,
   "id": "1ef55efc-3333-4c0c-a7d0-dd3a0d2ac259",
   "metadata": {
    "tags": []
   },
   "outputs": [],
   "source": [
    "train, test, = train_test_split(df, test_size=0.2, random_state=42)\n",
    "train_outlier = train.copy()\n",
    "test_outlier = test.copy()\n",
    "train_outlier = train_outlier[(train_outlier[\"Cena\"]>250000)&(train_outlier[\"Cena\"]<4000000)]\n",
    "test_outlier = test_outlier[(test_outlier[\"Cena\"]>250000)&(test_outlier[\"Cena\"]<4000000)]\n",
    "train_outlier = train_outlier[(train_outlier[\"Powierzchnia\"]<300)]\n",
    "test_outlier = test_outlier[(test_outlier[\"Powierzchnia\"]<300)]"
   ]
  },
  {
   "cell_type": "code",
   "execution_count": null,
   "id": "313e29d6-5f10-48b1-947c-5d38c12760b5",
   "metadata": {
    "tags": []
   },
   "outputs": [],
   "source": [
    "numeric_imputer = SimpleImputer(missing_values=np.nan, strategy=\"mean\")\n",
    "categorical_imputer = SimpleImputer(missing_values=np.nan, strategy=\"most_frequent\")\n",
    "binary_imputer = SimpleImputer(missing_values=np.nan, strategy=\"most_frequent\")\n",
    "categorical_encoder = OneHotEncoder(drop=\"first\")\n",
    "\n",
    "categorical_pipeline = Pipeline(\n",
    "    steps=[\n",
    "        (\"imputer\", categorical_imputer),\n",
    "        (\"encoder\", categorical_encoder)\n",
    "    ]\n",
    ")\n",
    "binary_pipeline = binary_imputer\n",
    "numeric_pipeline = numeric_imputer\n",
    "\n",
    "preprocessing = ColumnTransformer(\n",
    "    transformers=[\n",
    "        (\"num\", numeric_pipeline, make_column_selector(dtype_include=float)),\n",
    "        (\"cat\", categorical_pipeline, make_column_selector(dtype_include=object)),\n",
    "        (\"bin\", binary_pipeline, make_column_selector(dtype_include=int))\n",
    "    ]\n",
    ")"
   ]
  },
  {
   "cell_type": "code",
   "execution_count": null,
   "id": "8757f770-3362-4dd9-9b74-1195be2dd85a",
   "metadata": {
    "tags": []
   },
   "outputs": [],
   "source": [
    "preprocessor = preprocessing.fit(train_outlier.iloc[:, 1:])\n",
    "num_features = list(preprocessing.named_transformers_[\"num\"].feature_names_in_)\n",
    "cat_features = list(preprocessing.named_transformers_[\"cat\"].steps[1][1].get_feature_names_out())\n",
    "bin_features = list(preprocessing.named_transformers_[\"bin\"].feature_names_in_)\n",
    "features = num_features + cat_features + bin_features"
   ]
  },
  {
   "cell_type": "code",
   "execution_count": null,
   "id": "047de289-2205-41fe-a52e-dc59c686ea04",
   "metadata": {
    "tags": []
   },
   "outputs": [],
   "source": [
    "train_preprocessed = pd.DataFrame(preprocessor.transform(train_outlier.iloc[:, 1:]), columns=features)\n",
    "y_train = train_outlier.iloc[:, 0]\n",
    "test_preprocessed = pd.DataFrame(preprocessor.transform(test_outlier.iloc[:, 1:]), columns=features)\n",
    "y_test = test_outlier.iloc[:, 0]"
   ]
  },
  {
   "cell_type": "markdown",
   "id": "00088c6c-8f75-47b1-95fc-ee2f0ee7a05e",
   "metadata": {},
   "source": [
    "### Random Forest Regressor"
   ]
  },
  {
   "cell_type": "code",
   "execution_count": null,
   "id": "aa76900c-44c5-441d-ae89-71ae09b2dc17",
   "metadata": {
    "tags": []
   },
   "outputs": [],
   "source": [
    "model = RandomForestRegressor().fit(train_preprocessed, y_train)\n",
    "print_metrics(model, train_preprocessed, test_preprocessed, y_train, y_test)"
   ]
  },
  {
   "cell_type": "code",
   "execution_count": null,
   "id": "33d7fc37-b403-4592-919c-7ecc2c4bb355",
   "metadata": {
    "tags": []
   },
   "outputs": [],
   "source": [
    "random_grid = {'n_estimators': [int(x) for x in np.linspace(start = 200, stop = 2000, num = 10)],\n",
    "               'max_features': ['auto', 'sqrt'],\n",
    "               \"criterion\": [\"squared_error\", \"absolute_error\", \"friedman_mse\", \"poisson\", None],\n",
    "               'max_depth': [int(x) for x in np.linspace(10, 200, num = 5)],\n",
    "               'min_samples_split': [2, 5, 10],\n",
    "               'min_samples_leaf': [1, 2, 4, 8, 16],\n",
    "               'bootstrap': [True, False]}\n",
    "\n",
    "rf_search = RandomizedSearchCV(\n",
    "    estimator = RandomForestRegressor(), \n",
    "    param_distributions = random_grid, \n",
    "    n_iter = 30, \n",
    "    cv = 2, \n",
    "    verbose=2, \n",
    "    random_state=42\n",
    ").fit(train_preprocessed, y_train)"
   ]
  },
  {
   "cell_type": "code",
   "execution_count": null,
   "id": "0674b788-db78-4bb9-8b94-713b9cbf4206",
   "metadata": {
    "tags": []
   },
   "outputs": [],
   "source": [
    "m1 = joblib.load(\"models/grid_random_forest.pkl\")\n",
    "m1.best_estimator_.get_params()"
   ]
  },
  {
   "cell_type": "code",
   "execution_count": null,
   "id": "b15a810e-55df-482f-956b-ac75d84a882f",
   "metadata": {
    "tags": []
   },
   "outputs": [],
   "source": [
    "print_metrics(m1, train_preprocessed, test_preprocessed, y_train, y_test)"
   ]
  },
  {
   "cell_type": "code",
   "execution_count": null,
   "id": "bec2cb9d-d998-4b5b-a278-3bc9c7d1d578",
   "metadata": {
    "tags": []
   },
   "outputs": [],
   "source": [
    "rf_search.best_estimator_.get_params()"
   ]
  },
  {
   "cell_type": "code",
   "execution_count": null,
   "id": "6d35238b-0cb1-486c-8627-7e1ed9ebcd44",
   "metadata": {
    "tags": []
   },
   "outputs": [],
   "source": [
    "print_metrics(rf_search, train_preprocessed, test_preprocessed, y_train, y_test)"
   ]
  },
  {
   "cell_type": "markdown",
   "id": "082536e0-e441-4eb1-b1e9-4b3628b77ba7",
   "metadata": {},
   "source": [
    "### Gradient Boosting Regressor"
   ]
  },
  {
   "cell_type": "code",
   "execution_count": null,
   "id": "63cb2dbe-a743-43b0-a611-571766742773",
   "metadata": {
    "tags": []
   },
   "outputs": [],
   "source": [
    "model = GradientBoostingRegressor().fit(train_preprocessed, y_train)\n",
    "print_metrics(model, train_preprocessed, test_preprocessed, y_train, y_test)"
   ]
  },
  {
   "cell_type": "code",
   "execution_count": null,
   "id": "4e819bf0-eb02-49da-b1f8-9aba818867a0",
   "metadata": {
    "tags": []
   },
   "outputs": [],
   "source": [
    "random_grid = {\n",
    "    \"loss\": [\"squared_error\", \"absolute_error\", \"huber\", \"quantile\"],\n",
    "    'n_estimators': [int(x) for x in np.linspace(start = 10, stop = 2000, num = 10)],\n",
    "    'learning_rate':[0.00001, 0.0001, 0.001,0.01, 0.1, 0.5, 1, 2, 5, 10, 30],\n",
    "    'max_depth': [int(x) for x in np.linspace(start = 1, stop = 200, num = 5)],\n",
    "    'subsample':[0.001, 0.01, 0.1, 0.5, 0.75,1],\n",
    "    'random_state': [1]\n",
    "}\n",
    "\n",
    "gbr_search = RandomizedSearchCV(\n",
    "    estimator = GradientBoostingRegressor(), \n",
    "    param_distributions = random_grid, \n",
    "    n_iter = 30, \n",
    "    cv = 2, \n",
    "    verbose=2, \n",
    "    random_state=42\n",
    ").fit(train_preprocessed, y_train)"
   ]
  },
  {
   "cell_type": "code",
   "execution_count": null,
   "id": "c36cdecd-0a03-4ef2-8935-e67cc2d58223",
   "metadata": {
    "tags": []
   },
   "outputs": [],
   "source": [
    "gbr_search.best_estimator_.get_params()"
   ]
  },
  {
   "cell_type": "code",
   "execution_count": null,
   "id": "ebbad60b-2e2c-4e5b-8e60-d32440ac1e8c",
   "metadata": {
    "tags": []
   },
   "outputs": [],
   "source": [
    "print_metrics(gbr_search, train_preprocessed, test_preprocessed, y_train, y_test)"
   ]
  },
  {
   "cell_type": "markdown",
   "id": "37de05ec-1d8e-4fe3-9abe-8370bb9e60d3",
   "metadata": {},
   "source": [
    "## MLP"
   ]
  },
  {
   "cell_type": "code",
   "execution_count": null,
   "id": "9d7485f7-2a6d-4618-a9e9-7ce292b30e86",
   "metadata": {
    "tags": []
   },
   "outputs": [],
   "source": [
    "model = MLPRegressor().fit(train_preprocessed, y_train)\n",
    "print_metrics(model, train_preprocessed, test_preprocessed, y_train, y_test)"
   ]
  },
  {
   "cell_type": "code",
   "execution_count": null,
   "id": "5d209250-69f6-468e-94d6-0f058ef37950",
   "metadata": {
    "tags": []
   },
   "outputs": [],
   "source": [
    "random_grid = {\n",
    "    \"hidden_layer_sizes\": [(20,), (50,), (100,), (200,), (500,), (1000,), (2500,)],\n",
    "    'activation': [\"identity\", \"logistic\", \"tanh\", \"relu\"],\n",
    "    'solver': [\"lbfgs\", \"sgd\", \"adam\"],\n",
    "    'alpha': [0.0000001, 0.000001, 0.0000, 0.0001, 0.001,0.01, 0.1, 0.5, 1],\n",
    "    'learning_rate':[\"constant\", \"invscaling\", \"adaptive\"],\n",
    "    'max_iter': [int(x) for x in np.linspace(start = 50, stop = 1000, num = 20)],\n",
    "    'momentum':[0.001, 0.01, 0.1, 0.5, 0.75, 0.9, 1],\n",
    "    'random_state': [1]\n",
    "}\n",
    "\n",
    "mlp_search = RandomizedSearchCV(\n",
    "    estimator = MLPRegressor(), \n",
    "    param_distributions = random_grid, \n",
    "    n_iter = 30, \n",
    "    cv = 2, \n",
    "    verbose=2, \n",
    "    random_state=42\n",
    ").fit(train_preprocessed, y_train)"
   ]
  },
  {
   "cell_type": "code",
   "execution_count": null,
   "id": "3198f3d9-21f1-4511-97c6-4b330a96877b",
   "metadata": {
    "tags": []
   },
   "outputs": [],
   "source": [
    "model1 = joblib.load(\"models/grid_mlp.pkl\")"
   ]
  },
  {
   "cell_type": "code",
   "execution_count": null,
   "id": "71d8f4c0-00f3-4d5a-8bd9-4a235e0c023e",
   "metadata": {
    "tags": []
   },
   "outputs": [],
   "source": [
    "model1.best_estimator_.get_params()"
   ]
  },
  {
   "cell_type": "code",
   "execution_count": null,
   "id": "94643d73-4f23-4e85-8f85-43da40fbccbd",
   "metadata": {
    "tags": []
   },
   "outputs": [],
   "source": [
    "joblib.dump(mlp_search, 'models/grid_mlp.pkl')"
   ]
  },
  {
   "cell_type": "code",
   "execution_count": null,
   "id": "b584077e-5bb4-4065-afd6-d141a2053809",
   "metadata": {
    "tags": []
   },
   "outputs": [],
   "source": [
    "mlp_search.best_estimator_.get_params()"
   ]
  },
  {
   "cell_type": "code",
   "execution_count": null,
   "id": "131e11fe-9702-49f9-9a31-977b1bc8428c",
   "metadata": {
    "tags": []
   },
   "outputs": [],
   "source": [
    "print_metrics(mlp_search, train_preprocessed, test_preprocessed, y_train, y_test)"
   ]
  },
  {
   "cell_type": "markdown",
   "id": "57a56ffe-0ae2-451a-ac31-64d516bf9ecb",
   "metadata": {},
   "source": [
    "### Linear regression "
   ]
  },
  {
   "cell_type": "code",
   "execution_count": null,
   "id": "cc627f2b-c9b3-4de2-91a7-a290273e19ce",
   "metadata": {
    "tags": []
   },
   "outputs": [],
   "source": [
    "model = LinearRegression().fit(train_preprocessed, y_train)\n",
    "r2 = r2_score(y_train, model.predict(train_preprocessed))\n",
    "mse = mean_squared_error(y_train, model.predict(train_preprocessed))\n",
    "print(r2)\n",
    "print(mse)\n",
    "r2 = r2_score(y_test, model.predict(test_preprocessed))\n",
    "mse = mean_squared_error(y_test, model.predict(test_preprocessed))\n",
    "print(r2)\n",
    "print(mse)"
   ]
  },
  {
   "cell_type": "code",
   "execution_count": null,
   "id": "3e1869f6-3301-40ee-ba60-11e177e66052",
   "metadata": {},
   "outputs": [],
   "source": [
    "model = BayesianRidge().fit(train_preprocessed, y_train)\n",
    "r2 = r2_score(y_train, model.predict(train_preprocessed))\n",
    "mse = mean_squared_error(y_train, model.predict(train_preprocessed))\n",
    "print(r2)\n",
    "print(mse)\n",
    "r2 = r2_score(y_test, model.predict(test_preprocessed))\n",
    "mse = mean_squared_error(y_test, model.predict(test_preprocessed))\n",
    "print(r2)\n",
    "print(mse)"
   ]
  },
  {
   "cell_type": "code",
   "execution_count": null,
   "id": "c8f19978-0b4a-46b8-9b75-43e02f92e036",
   "metadata": {},
   "outputs": [],
   "source": [
    "random_grid = {\n",
    "    \"n_iter\": [int(x) for x in np.linspace(start = 10, stop = 1000, num = 10)],,\n",
    "    'tol': [0.00001, 0.0001, 0.001, 0.01, 0.1, 0.25, 0.5, 1, 2, 5],\n",
    "    'alpha_1': [0.0000001, 0.000001, 0.0000, 0.0001, 0.001,0.01, 0.1, 0.5, 1],\n",
    "    'alpha_2': [0.0000001, 0.000001, 0.0000, 0.0001, 0.001,0.01, 0.1, 0.5, 1],\n",
    "    'lambda_1': [0.0000001, 0.000001, 0.0000, 0.0001, 0.001,0.01, 0.1, 0.5, 1],\n",
    "    'lambda_2': [0.0000001, 0.000001, 0.0000, 0.0001, 0.001,0.01, 0.1, 0.5, 1],\n",
    "}\n",
    "\n",
    "br_search = BayesianRidge(\n",
    "    estimator = BayesianRidge(), \n",
    "    param_distributions = random_grid, \n",
    "    n_iter = 20, \n",
    "    cv = 2, \n",
    "    verbose=2, \n",
    "    random_state=42\n",
    ").fit(train_preprocessed, y_train)"
   ]
  },
  {
   "cell_type": "code",
   "execution_count": null,
   "id": "fbbc145e-0875-4dec-96a2-d1c855336e01",
   "metadata": {},
   "outputs": [],
   "source": [
    "r2 = r2_score(y_train, br_search.predict(train_preprocessed))\n",
    "mse = mean_squared_error(y_train, br_search.predict(train_preprocessed))\n",
    "print(r2)\n",
    "print(mse)\n",
    "r2 = r2_score(y_test, br_search.predict(test_preprocessed))\n",
    "mse = mean_squared_error(y_test, br_search.predict(test_preprocessed))\n",
    "print(r2)\n",
    "print(mse)"
   ]
  },
  {
   "cell_type": "markdown",
   "id": "243188d1-576d-4387-88a5-4dee49e0071b",
   "metadata": {},
   "source": [
    "## feature selection"
   ]
  },
  {
   "cell_type": "code",
   "execution_count": null,
   "id": "724b8930-3d70-4355-8dcb-39318e7ead25",
   "metadata": {
    "tags": []
   },
   "outputs": [],
   "source": [
    "Trr=[]\n",
    "Tss=[]\n",
    "\n",
    "m=10\n",
    "for i in range(1, m):\n",
    "    lm = RandomForestRegressor()\n",
    "    rfe = RFE(lm,n_features_to_select=i)           \n",
    "    rfe = rfe.fit(train_preprocessed, y_train)\n",
    "    \n",
    "    print(rfe.support_)\n",
    "    LR = LinearRegression()\n",
    "    LR.fit(train_preprocessed.loc[:,rfe.support_], y_train)\n",
    "\n",
    "    pred1 = LR.predict(train_preprocessed.loc[:,rfe.support_])\n",
    "    pred2 = LR.predict(test_preprocessed.loc[:,rfe.support_])\n",
    "\n",
    "    Trr.append(mean_squared_error(y_train, pred1))\n",
    "    Tss.append(mean_squared_error(y_test, pred2))\n",
    "    print(i)\n",
    "\n",
    "plt.plot(Trr, label='Train RMSE')\n",
    "plt.plot(Tss, label='Test RMSE')\n",
    "#plt.ylim([19.75,20.75])\n",
    "plt.legend()\n",
    "plt.grid()\n",
    "plt.show()"
   ]
  },
  {
   "cell_type": "code",
   "execution_count": null,
   "id": "fabb1dba-5f68-4811-8d08-23098026dde2",
   "metadata": {
    "tags": []
   },
   "outputs": [],
   "source": [
    "selector = RFE(RandomForestRegressor(), n_features_to_select=5, step=1)\n",
    "selector = selector.fit(train_preprocessed, y_train)"
   ]
  },
  {
   "cell_type": "code",
   "execution_count": null,
   "id": "33f7c5f2-4d22-4ade-89e5-d8202e28d270",
   "metadata": {
    "tags": []
   },
   "outputs": [],
   "source": [
    "r2 = r2_score(y_train, selector.predict(train_preprocessed))\n",
    "mse = mean_squared_error(y_train, selector.predict(train_preprocessed))\n",
    "print(r2)\n",
    "print(mse)\n",
    "r2 = r2_score(y_test, selector.predict(test_preprocessed))\n",
    "mse = mean_squared_error(y_test, selector.predict(test_preprocessed))\n",
    "print(r2)\n",
    "print(mse)"
   ]
  },
  {
   "cell_type": "code",
   "execution_count": null,
   "id": "85f9ef67-6d69-44a6-83d2-b06a667f8819",
   "metadata": {
    "tags": []
   },
   "outputs": [],
   "source": [
    "from sklearn.feature_selection import SelectKBest, RFE, f_regression\n",
    "import numpy as np\n",
    "\n",
    "bestfeatures = SelectKBest(score_func=f_regression, k='all')\n",
    "fit = bestfeatures.fit(train_preprocessed, y_train)\n",
    "print(fit.scores_)\n",
    "dfscores = pd.DataFrame(np.around(fit.scores_, 2))\n",
    "dfcolumns = pd.DataFrame(train_preprocessed.columns)\n",
    "#concat two dataframes for better visualization \n",
    "featureScores = pd.concat([dfcolumns,dfscores],axis=1)\n",
    "featureScores.columns = ['Specs','Score']  #naming the dataframe columns\n",
    "print(featureScores.nlargest(30,'Score'))  \n",
    "featureScores.head(100)"
   ]
  }
 ],
 "metadata": {
  "kernelspec": {
   "display_name": "Python 3 (ipykernel)",
   "language": "python",
   "name": "python3"
  },
  "language_info": {
   "codemirror_mode": {
    "name": "ipython",
    "version": 3
   },
   "file_extension": ".py",
   "mimetype": "text/x-python",
   "name": "python",
   "nbconvert_exporter": "python",
   "pygments_lexer": "ipython3",
   "version": "3.9.10"
  }
 },
 "nbformat": 4,
 "nbformat_minor": 5
}
