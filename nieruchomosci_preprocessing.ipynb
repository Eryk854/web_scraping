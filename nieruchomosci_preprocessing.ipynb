{
 "cells": [
  {
   "cell_type": "code",
   "execution_count": 23,
   "id": "9a3cc372-a634-427a-8727-965ed67e8da2",
   "metadata": {
    "tags": []
   },
   "outputs": [],
   "source": [
    "import pandas as pd\n",
    "import numpy as np"
   ]
  },
  {
   "cell_type": "code",
   "execution_count": 28,
   "id": "8f1e2f46-847b-48aa-b91a-4881bd73c3e9",
   "metadata": {
    "tags": []
   },
   "outputs": [
    {
     "data": {
      "text/plain": [
       "(27825, 39)"
      ]
     },
     "execution_count": 28,
     "metadata": {},
     "output_type": "execute_result"
    }
   ],
   "source": [
    "file_path = \"nieruchomosci/geocoded/nieruchomosci_online_geocoded.csv\"\n",
    "df = pd.read_csv(file_path, sep=\"\\t\")\n",
    "df.shape"
   ]
  },
  {
   "cell_type": "code",
   "execution_count": 25,
   "id": "d3c6e35b-9199-4ddd-b8bd-423274ec4c36",
   "metadata": {},
   "outputs": [],
   "source": [
    "df.drop_duplicates(inplace=True)"
   ]
  },
  {
   "cell_type": "code",
   "execution_count": 30,
   "id": "46898e0c-f70f-40f7-b553-2814aec4b52d",
   "metadata": {
    "tags": []
   },
   "outputs": [
    {
     "data": {
      "text/plain": [
       "(27, 39)"
      ]
     },
     "execution_count": 30,
     "metadata": {},
     "output_type": "execute_result"
    }
   ],
   "source": [
    "df[df.duplicated()].shape"
   ]
  },
  {
   "cell_type": "code",
   "execution_count": 26,
   "id": "3ede5261-9a82-4dee-b04a-272ddeea2eb1",
   "metadata": {
    "tags": []
   },
   "outputs": [
    {
     "data": {
      "text/plain": [
       "(27798, 39)"
      ]
     },
     "execution_count": 26,
     "metadata": {},
     "output_type": "execute_result"
    }
   ],
   "source": [
    "df.shape"
   ]
  },
  {
   "cell_type": "code",
   "execution_count": 4,
   "id": "19853b9e-5f63-4ad5-bd76-6f9df7e81276",
   "metadata": {},
   "outputs": [],
   "source": [
    "df[\"Miasto\"] = df[\"Miasto\"].str.lower()"
   ]
  },
  {
   "cell_type": "code",
   "execution_count": 5,
   "id": "d6651648-59e7-476d-9fb0-9f51c075402c",
   "metadata": {
    "tags": []
   },
   "outputs": [],
   "source": [
    "df[\"Cena\"] = df[\"Cena\"].str[:-3]\n",
    "df[\"Cena\"] = df[\"Cena\"].str.replace(\",\", \".\")\n",
    "df[\"Cena\"] = df[\"Cena\"].str.replace(\" \", \"\")\n",
    "df[\"Cena\"] = df[\"Cena\"].astype(float)"
   ]
  },
  {
   "cell_type": "code",
   "execution_count": 6,
   "id": "d3d8495b-df1f-4ebe-b06e-695a2d570c10",
   "metadata": {
    "tags": []
   },
   "outputs": [],
   "source": [
    "df[\"Powierzchnia\"] = df[\"Powierzchnia\"].str[:-3]\n",
    "df[\"Powierzchnia\"] = df[\"Powierzchnia\"].str.replace(\",\", \".\")\n",
    "df[\"Powierzchnia\"] = df[\"Powierzchnia\"].str.replace(\" \", \"\")\n",
    "df[\"Powierzchnia\"] = df[\"Powierzchnia\"].astype(float)"
   ]
  },
  {
   "cell_type": "code",
   "execution_count": 7,
   "id": "d2571f66-f104-4ec9-bc50-645270e3fd52",
   "metadata": {
    "tags": []
   },
   "outputs": [],
   "source": [
    "from typing import Optional\n",
    "\n",
    "def convert_string_to_floor(floor: str, max_floor: Optional[str] = None):\n",
    "    if floor == \"parter\":\n",
    "        return 0\n",
    "    elif floor == \"suterena\":\n",
    "        return -1\n",
    "    elif floor == \"poddasze\":\n",
    "        return int(max_floor)\n",
    "    else:\n",
    "        return int(floor)\n",
    "\n",
    "def prepare_floor(row: pd.Series):\n",
    "    floor = row[\"Pietro\"]\n",
    "    floor_elements = floor.split(\"/\")\n",
    "    if len(floor_elements) == 2:\n",
    "        your_floor = floor_elements[0].strip()\n",
    "        max_floor = floor_elements[1].strip()\n",
    "        your_floor = convert_string_to_floor(your_floor, max_floor)\n",
    "        max_floor = int(max_floor)\n",
    "           \n",
    "    if len(floor_elements) == 1:\n",
    "        your_floor = floor_elements[0].strip()\n",
    "        if your_floor == \"-\":\n",
    "            your_floor = None\n",
    "            max_floor = None\n",
    "        else:\n",
    "            your_floor = convert_string_to_floor(your_floor)\n",
    "        max_floor = None\n",
    "    \n",
    "    row[\"pietro mieszkania\"] = your_floor\n",
    "    row[\"maksymalne pietro\"] = max_floor\n",
    "    return row\n",
    "    \n",
    "df = df.apply(prepare_floor, axis=1)"
   ]
  },
  {
   "cell_type": "code",
   "execution_count": 8,
   "id": "d7c3e4a1-a464-45f1-bfd4-b179e59e21d2",
   "metadata": {
    "tags": []
   },
   "outputs": [],
   "source": [
    "df[\"polozenie mieszkania\"] = df[\"pietro mieszkania\"] / df[\"maksymalne pietro\"]"
   ]
  },
  {
   "cell_type": "code",
   "execution_count": 9,
   "id": "5f28f5ca-3dda-43a3-8d97-f3ad33009063",
   "metadata": {
    "tags": []
   },
   "outputs": [],
   "source": [
    "df[\"Liczba pokoi\"].replace({\"-\": np.nan}, inplace=True)\n",
    "df[\"Liczba pokoi\"] = df[\"Liczba pokoi\"].astype(float)"
   ]
  },
  {
   "cell_type": "code",
   "execution_count": 10,
   "id": "17096e96-568c-4a4b-a669-4e31a1208e97",
   "metadata": {
    "tags": []
   },
   "outputs": [],
   "source": [
    "df[\"Stan mieszkania\"].replace({\n",
    "    \"bardzo dobry\": \"do zamieszkania\", \n",
    "    \"deweloperski\": \"do remontu\", \n",
    "    \"do odswiezenia\": \"do remontu\",\n",
    "    \"dobry\": \"do zamieszkania\", \n",
    "    \"nowe wykonczone\": \"do zamieszkania\",\n",
    "    \"wysoki standard\": \"do zamieszkania\",\n",
    "    \"-\": \"Brak danych\"\n",
    "}, inplace=True)\n",
    "df.rename(columns = {\"Stan mieszkania\": \"Stan wykonczenia\"}, inplace=True)"
   ]
  },
  {
   "cell_type": "code",
   "execution_count": 11,
   "id": "5a8a959d-7d3a-47ed-95ae-2405d2f17701",
   "metadata": {
    "tags": []
   },
   "outputs": [],
   "source": [
    "df.loc[~df[\"winda\"].isna(), \"winda\"] = 1\n",
    "df.loc[df[\"winda\"].isna(), \"winda\"] = 0\n",
    "\n",
    "df.rename(columns = {\"winda\": \"Winda\"}, inplace=True)\n",
    "df[\"Winda\"] = df[\"Winda\"].astype(float)"
   ]
  },
  {
   "cell_type": "code",
   "execution_count": 12,
   "id": "634e0633-a800-4d48-80cd-4735dc78071e",
   "metadata": {
    "tags": []
   },
   "outputs": [],
   "source": [
    "df.loc[~df[\"Powierzchnia dodatkowa\"].isna(), \"Powierzchnia dodatkowa\"] = 1\n",
    "df.loc[df[\"Powierzchnia dodatkowa\"].isna(), \"Powierzchnia dodatkowa\"] = 0"
   ]
  },
  {
   "cell_type": "code",
   "execution_count": 13,
   "id": "4ecb5dd5-b05d-4bcd-a4a0-f6c5b82febb2",
   "metadata": {
    "tags": []
   },
   "outputs": [],
   "source": [
    "parking_slot_values = [\n",
    "    \"-\",\n",
    "    \"przynalezne na ulicy (1 miejsce parkingowe)\",\n",
    "    \"mozliwosc wykupienia, parking publiczny / na ulicy\",\n",
    "    \"mozliwosc wykupienia, parking publiczny / na ulicy\",\n",
    "    \"parking strzezony w poblizu\",\n",
    "    \"parking strzezony w poblizu, parking publiczny / na ulicy\",\n",
    "]\n",
    "df.loc[~df[\"Miejsce parkingowe\"].isin(parking_slot_values), \"Miejsce parkingowe\"] = 1\n",
    "df.loc[df[\"Miejsce parkingowe\"].isin(parking_slot_values), \"Miejsce parkingowe\"] = 0"
   ]
  },
  {
   "cell_type": "code",
   "execution_count": 14,
   "id": "41d00b98-d8c0-4615-9725-701436048168",
   "metadata": {
    "tags": []
   },
   "outputs": [],
   "source": [
    "df.loc[df[\"Rynek\"].isna(), \"Rynek\"] = None\n",
    "df.loc[df[\"Rynek\"].str.contains(\"pierwotny\", na=False), \"Rynek\"] = \"pierwotny\""
   ]
  },
  {
   "cell_type": "code",
   "execution_count": 15,
   "id": "23b7a645-5cdd-4254-a6b4-69830e353602",
   "metadata": {
    "tags": []
   },
   "outputs": [],
   "source": [
    "df.loc[df[\"Rok budowy\"].isna(), \"Rok budowy\"] = None\n",
    "df.loc[df[\"Rok budowy\"] == \"-\", \"Rok budowy\"] = None"
   ]
  },
  {
   "cell_type": "code",
   "execution_count": 16,
   "id": "0a19615c-bc4f-4087-aba0-4a4d51fd107d",
   "metadata": {
    "tags": []
   },
   "outputs": [],
   "source": [
    "df[\"Czynsz\"] = df[\"Czynsz\"].str.replace(\"zl\", \"\")\n",
    "df[\"Czynsz\"] = df[\"Czynsz\"].str.replace(\",\", \".\")\n",
    "df[\"Czynsz\"] = df[\"Czynsz\"].str.replace(\" \", \"\")\n",
    "df.loc[(df[\"Czynsz\"].isna()), \"Czynsz\"] = np.nan\n",
    "df[\"Czynsz\"] = df[\"Czynsz\"].astype(float)"
   ]
  },
  {
   "cell_type": "code",
   "execution_count": 17,
   "id": "56c5e5fb-a2bd-4f6f-a2cf-b1f596db727d",
   "metadata": {
    "tags": []
   },
   "outputs": [],
   "source": [
    "df.drop(columns=[\n",
    "    \"Cena za metr\", \n",
    "    \"Tytul\", \n",
    "    \"Adres\",\n",
    "    \"Typ oferty\",\n",
    "    \"Dostepne\",\n",
    "    \"Charakterystyka mieszkania\",\n",
    "    \"Budynek\",\n",
    "    \"technika budowy\",\n",
    "    \"Wyposazenie\",\n",
    "    \"Kuchnia\",\n",
    "    \"Lazienka\", \n",
    "    \"Media\",\n",
    "    \"Bezpieczenstwo\",\n",
    "    \"Zrodlo\",\n",
    "    \"Termin realizacji\",\n",
    "    \"Status oferty\",\n",
    "    \"Forma wlasnosci\",\n",
    "    \"instalacje\",\n",
    "    \"okna\"\n",
    "], inplace=True)"
   ]
  },
  {
   "cell_type": "code",
   "execution_count": 18,
   "id": "3f8903e8-9d4f-4e78-bb10-ee580501b689",
   "metadata": {
    "tags": []
   },
   "outputs": [],
   "source": [
    "df[\"Dataset\"] = \"nieruchomosci\""
   ]
  },
  {
   "cell_type": "code",
   "execution_count": 19,
   "id": "954f5012-0303-4c9b-a765-34c7820f6e82",
   "metadata": {
    "tags": []
   },
   "outputs": [
    {
     "data": {
      "text/plain": [
       "Index(['Miasto', 'URL', 'Cena', 'Powierzchnia', 'Pietro', 'Liczba pokoi',\n",
       "       'Stan wykonczenia', 'Winda', 'Powierzchnia dodatkowa',\n",
       "       'Miejsce parkingowe', 'Rynek', 'Rok budowy', 'Czynsz', 'latitude',\n",
       "       'longitude', 'formatted_address', 'result_confidence', 'suburb',\n",
       "       'building_category', 'result_type', 'pietro mieszkania',\n",
       "       'maksymalne pietro', 'polozenie mieszkania', 'Dataset'],\n",
       "      dtype='object')"
      ]
     },
     "execution_count": 19,
     "metadata": {},
     "output_type": "execute_result"
    }
   ],
   "source": [
    "df.columns"
   ]
  },
  {
   "cell_type": "code",
   "execution_count": 20,
   "id": "8d30d084-7962-4d3b-bc69-3f45c974720b",
   "metadata": {
    "tags": []
   },
   "outputs": [
    {
     "data": {
      "text/plain": [
       "(27798, 24)"
      ]
     },
     "execution_count": 20,
     "metadata": {},
     "output_type": "execute_result"
    }
   ],
   "source": [
    "df.shape"
   ]
  },
  {
   "cell_type": "code",
   "execution_count": 21,
   "id": "317d579f-61bb-4d77-901b-8cc92490812e",
   "metadata": {
    "tags": []
   },
   "outputs": [
    {
     "data": {
      "text/plain": [
       "Miasto                     object\n",
       "URL                        object\n",
       "Cena                      float64\n",
       "Powierzchnia              float64\n",
       "Pietro                     object\n",
       "Liczba pokoi              float64\n",
       "Stan wykonczenia           object\n",
       "Winda                     float64\n",
       "Powierzchnia dodatkowa     object\n",
       "Miejsce parkingowe         object\n",
       "Rynek                      object\n",
       "Rok budowy                 object\n",
       "Czynsz                    float64\n",
       "latitude                  float64\n",
       "longitude                 float64\n",
       "formatted_address          object\n",
       "result_confidence         float64\n",
       "suburb                     object\n",
       "building_category          object\n",
       "result_type                object\n",
       "pietro mieszkania         float64\n",
       "maksymalne pietro         float64\n",
       "polozenie mieszkania      float64\n",
       "Dataset                    object\n",
       "dtype: object"
      ]
     },
     "execution_count": 21,
     "metadata": {},
     "output_type": "execute_result"
    }
   ],
   "source": [
    "df.dtypes"
   ]
  },
  {
   "cell_type": "code",
   "execution_count": 22,
   "id": "a790dfdd-4451-409c-83f5-d5e723f5fc81",
   "metadata": {},
   "outputs": [],
   "source": [
    "df.to_csv(\"nieruchomosci/nieruchomosci_online_before_merge.csv\", index=False, sep=\"\\t\")"
   ]
  },
  {
   "cell_type": "code",
   "execution_count": null,
   "id": "112b8251-f185-4c89-8fa4-a992a94856cd",
   "metadata": {},
   "outputs": [],
   "source": []
  }
 ],
 "metadata": {
  "kernelspec": {
   "display_name": "Python 3 (ipykernel)",
   "language": "python",
   "name": "python3"
  },
  "language_info": {
   "codemirror_mode": {
    "name": "ipython",
    "version": 3
   },
   "file_extension": ".py",
   "mimetype": "text/x-python",
   "name": "python",
   "nbconvert_exporter": "python",
   "pygments_lexer": "ipython3",
   "version": "3.9.10"
  }
 },
 "nbformat": 4,
 "nbformat_minor": 5
}
