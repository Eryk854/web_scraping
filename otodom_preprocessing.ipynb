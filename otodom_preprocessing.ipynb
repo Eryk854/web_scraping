{
 "cells": [
  {
   "cell_type": "code",
   "execution_count": 1,
   "id": "9a3cc372-a634-427a-8727-965ed67e8da2",
   "metadata": {
    "tags": []
   },
   "outputs": [],
   "source": [
    "import pandas as pd\n",
    "import numpy as np"
   ]
  },
  {
   "cell_type": "code",
   "execution_count": 23,
   "id": "8f1e2f46-847b-48aa-b91a-4881bd73c3e9",
   "metadata": {
    "tags": []
   },
   "outputs": [
    {
     "data": {
      "text/plain": [
       "(34931, 34)"
      ]
     },
     "execution_count": 23,
     "metadata": {},
     "output_type": "execute_result"
    }
   ],
   "source": [
    "file_path = \"otodom/geocoded/otodom_geocoded.csv\"\n",
    "df = pd.read_csv(file_path, sep=\"\\t\")\n",
    "df.shape"
   ]
  },
  {
   "cell_type": "code",
   "execution_count": 24,
   "id": "0cd10639-bf9f-42ff-b68e-faac366a0b0a",
   "metadata": {
    "tags": []
   },
   "outputs": [
    {
     "data": {
      "text/plain": [
       "(262, 34)"
      ]
     },
     "execution_count": 24,
     "metadata": {},
     "output_type": "execute_result"
    }
   ],
   "source": [
    "df[df.duplicated()].shape"
   ]
  },
  {
   "cell_type": "code",
   "execution_count": 3,
   "id": "df225e20-22c4-4c5b-b0fc-8f9da0210c20",
   "metadata": {},
   "outputs": [],
   "source": [
    "df.drop_duplicates(inplace=True)"
   ]
  },
  {
   "cell_type": "code",
   "execution_count": 4,
   "id": "a531bf5d-73df-4a76-bd41-6c8a73b554a5",
   "metadata": {
    "tags": []
   },
   "outputs": [],
   "source": [
    "df.rename(columns = {\"Url\": \"URL\"}, inplace=True)"
   ]
  },
  {
   "cell_type": "code",
   "execution_count": 5,
   "id": "d6651648-59e7-476d-9fb0-9f51c075402c",
   "metadata": {
    "tags": []
   },
   "outputs": [],
   "source": [
    "df[\"Cena\"] = df[\"Cena\"].str[:-3]\n",
    "df[\"Cena\"] = df[\"Cena\"].str.replace(\",\", \".\")\n",
    "df[\"Cena\"] = df[\"Cena\"].str.replace(\" \", \"\")\n",
    "df[\"Cena\"] = df[\"Cena\"].astype(float)"
   ]
  },
  {
   "cell_type": "code",
   "execution_count": 6,
   "id": "d3d8495b-df1f-4ebe-b06e-695a2d570c10",
   "metadata": {
    "tags": []
   },
   "outputs": [],
   "source": [
    "df[\"Powierzchnia\"] = df[\"Powierzchnia\"].str[:-3]\n",
    "df[\"Powierzchnia\"] = df[\"Powierzchnia\"].str.replace(\",\", \".\")\n",
    "df[\"Powierzchnia\"] = df[\"Powierzchnia\"].str.replace(\" \", \"\")\n",
    "df[\"Powierzchnia\"] = df[\"Powierzchnia\"].astype(float)"
   ]
  },
  {
   "cell_type": "code",
   "execution_count": 7,
   "id": "5f28f5ca-3dda-43a3-8d97-f3ad33009063",
   "metadata": {
    "tags": []
   },
   "outputs": [],
   "source": [
    "df[\"Liczba pokoi\"].replace({\"wiecej niz 10\": 15}, inplace=True)\n",
    "df[\"Liczba pokoi\"] = df[\"Liczba pokoi\"].astype(float)"
   ]
  },
  {
   "cell_type": "code",
   "execution_count": 8,
   "id": "d2571f66-f104-4ec9-bc50-645270e3fd52",
   "metadata": {
    "tags": []
   },
   "outputs": [],
   "source": [
    "from typing import Optional\n",
    "\n",
    "def convert_string_to_floor(floor: str, max_floor: Optional[str] = None):\n",
    "    if floor == \"parter\":\n",
    "        return 0\n",
    "    elif floor == \"suterena\":\n",
    "        return -1\n",
    "    elif floor == \"poddasze\":\n",
    "        return int(max_floor)\n",
    "    else:\n",
    "        return int(floor)\n",
    "\n",
    "def prepare_floor(row: pd.Series):\n",
    "    floor = row[\"Pietro\"]\n",
    "    floor = floor.replace(\">\", \"\")\n",
    "    floor_elements = floor.split(\"/\")\n",
    "    if len(floor_elements) == 2:\n",
    "        your_floor = floor_elements[0].strip()\n",
    "        max_floor = floor_elements[1].strip()\n",
    "        your_floor = convert_string_to_floor(your_floor, max_floor)\n",
    "        max_floor = int(max_floor)\n",
    "           \n",
    "    if len(floor_elements) == 1:\n",
    "        your_floor = floor_elements[0].strip()\n",
    "        if your_floor == \"Zapytaj\":\n",
    "            your_floor = None\n",
    "            max_floor = None\n",
    "        else:\n",
    "            your_floor = convert_string_to_floor(your_floor)\n",
    "        max_floor = None\n",
    "    \n",
    "    row[\"pietro mieszkania\"] = your_floor\n",
    "    row[\"maksymalne pietro\"] = max_floor\n",
    "    return row\n",
    "    \n",
    "df = df.apply(prepare_floor, axis=1)"
   ]
  },
  {
   "cell_type": "code",
   "execution_count": 9,
   "id": "d7c3e4a1-a464-45f1-bfd4-b179e59e21d2",
   "metadata": {
    "tags": []
   },
   "outputs": [],
   "source": [
    "df[\"polozenie mieszkania\"] = df[\"pietro mieszkania\"] / df[\"maksymalne pietro\"]"
   ]
  },
  {
   "cell_type": "code",
   "execution_count": 10,
   "id": "b4018118-e5c2-4b5e-b2d2-018f21ef383b",
   "metadata": {
    "tags": []
   },
   "outputs": [],
   "source": [
    "df[\"Czynsz\"] = df[\"Czynsz\"].str.replace(\"zl\", \"\")\n",
    "df[\"Czynsz\"] = df[\"Czynsz\"].str.replace(\"EUR\", \"\")\n",
    "df[\"Czynsz\"] = df[\"Czynsz\"].str.replace(\",\", \".\")\n",
    "df[\"Czynsz\"] = df[\"Czynsz\"].str.replace(\" \", \"\")\n",
    "df.loc[(df[\"Czynsz\"] == \"Zapytaj\") | (df[\"Czynsz\"].isna()), \"Czynsz\"] = np.nan\n",
    "df[\"Czynsz\"] = df[\"Czynsz\"].astype(float)\n"
   ]
  },
  {
   "cell_type": "code",
   "execution_count": 11,
   "id": "a99f842c-fca8-4267-8db1-be0d76eadb6f",
   "metadata": {
    "tags": []
   },
   "outputs": [],
   "source": [
    "df.loc[df[\"Stan wykonczenia\"] == \"Zapytaj\", \"Stan wykonczenia\"] = None\n",
    "df.loc[df[\"Stan wykonczenia\"].isna(), \"Stan wykonczenia\"] = None"
   ]
  },
  {
   "cell_type": "code",
   "execution_count": 12,
   "id": "b10efda3-358b-4571-82a4-30765f923cc7",
   "metadata": {
    "tags": []
   },
   "outputs": [],
   "source": [
    "df.rename(columns = {\"Balkon / ogrod / taras\": \"Powierzchnia dodatkowa\"}, inplace=True)\n",
    "df.loc[df[\"Powierzchnia dodatkowa\"] == \"Zapytaj\", \"Powierzchnia dodatkowa\"] = 0\n",
    "df.loc[df[\"Powierzchnia dodatkowa\"] != 0, \"Powierzchnia dodatkowa\"] = 1"
   ]
  },
  {
   "cell_type": "code",
   "execution_count": 13,
   "id": "81a9045c-76a2-4912-b27b-4647dcf30d6c",
   "metadata": {
    "tags": []
   },
   "outputs": [],
   "source": [
    "df.loc[(df[\"Miejsce parkingowe\"] == \"Zapytaj\")|(df[\"Miejsce parkingowe\"].isna()), \"Miejsce parkingowe\"] = 0\n",
    "df.loc[(df[\"Miejsce parkingowe\"] != 0), \"Miejsce parkingowe\"] = 1"
   ]
  },
  {
   "cell_type": "code",
   "execution_count": 14,
   "id": "4fc73ac8-2b01-4520-b03b-e59a1adf18fa",
   "metadata": {
    "tags": []
   },
   "outputs": [],
   "source": [
    "df.loc[(df[\"Rynek\"] == \"Zapytaj\")|(df[\"Rynek\"].isna()), \"Rynek\"] = None"
   ]
  },
  {
   "cell_type": "code",
   "execution_count": 15,
   "id": "4a6a7692-a23d-445f-8e88-0fa4e9b8b727",
   "metadata": {
    "tags": []
   },
   "outputs": [],
   "source": [
    "df.loc[(df[\"Rok budowy\"] == \"brak informacji\") | (df[\"Rok budowy\"].isna()), \"Rok budowy\"] = None"
   ]
  },
  {
   "cell_type": "code",
   "execution_count": 16,
   "id": "7201c4ea-315d-4e9c-a9c3-fbe30429b077",
   "metadata": {
    "tags": []
   },
   "outputs": [],
   "source": [
    "df.loc[(df[\"Winda\"] == \"nie\") | (df[\"Winda\"].isna()), \"Winda\"] = 0\n",
    "df.loc[df[\"Winda\"] == \"tak\", \"Winda\"] = 1\n",
    "df[\"Winda\"] = df[\"Winda\"].astype(float)"
   ]
  },
  {
   "cell_type": "code",
   "execution_count": 17,
   "id": "64b447b2-273e-4eda-99f6-c90a71ab9692",
   "metadata": {
    "tags": []
   },
   "outputs": [],
   "source": [
    "df.drop(columns=[\n",
    "    \"Adres\",\n",
    "    \"Tytul\",\n",
    "    \"Obsluga zdalna\",\n",
    "    \"Forma wlasnosci\",\n",
    "    \"Ogrzewanie\",\n",
    "    \"Typ ogloszeniodawcy\",\n",
    "    \"Dostepne od\",\n",
    "    \"Rodzaj zabudowy\", \n",
    "    \"Okna\",\n",
    "    \"Media\",\n",
    "    \"Zabezpieczenia\",\n",
    "    \"Wyposazenie\",\n",
    "    \"Informacje dodatkowe\",\n",
    "    \"Material budynku\"\n",
    "], inplace=True)"
   ]
  },
  {
   "cell_type": "code",
   "execution_count": 18,
   "id": "8681e2c6-1a94-430b-abe1-ab507948b0d8",
   "metadata": {
    "tags": []
   },
   "outputs": [],
   "source": [
    "df[\"Dataset\"] = \"otodom\""
   ]
  },
  {
   "cell_type": "code",
   "execution_count": 19,
   "id": "f34688a1-cad7-4930-9d06-52ef56312b73",
   "metadata": {
    "tags": []
   },
   "outputs": [
    {
     "data": {
      "text/plain": [
       "Index(['Miasto', 'URL', 'Cena', 'Powierzchnia', 'Liczba pokoi', 'Pietro',\n",
       "       'Czynsz', 'Stan wykonczenia', 'Powierzchnia dodatkowa',\n",
       "       'Miejsce parkingowe', 'Rynek', 'Rok budowy', 'Winda', 'latitude',\n",
       "       'longitude', 'formatted_address', 'result_confidence', 'suburb',\n",
       "       'building_category', 'result_type', 'pietro mieszkania',\n",
       "       'maksymalne pietro', 'polozenie mieszkania', 'Dataset'],\n",
       "      dtype='object')"
      ]
     },
     "execution_count": 19,
     "metadata": {},
     "output_type": "execute_result"
    }
   ],
   "source": [
    "df.columns"
   ]
  },
  {
   "cell_type": "code",
   "execution_count": 20,
   "id": "e0f6ab8a-04b3-4da3-881c-c2896db723b5",
   "metadata": {
    "tags": []
   },
   "outputs": [
    {
     "data": {
      "text/plain": [
       "(34669, 24)"
      ]
     },
     "execution_count": 20,
     "metadata": {},
     "output_type": "execute_result"
    }
   ],
   "source": [
    "df.shape"
   ]
  },
  {
   "cell_type": "code",
   "execution_count": 21,
   "id": "eed0fb58-3a9e-4283-88f7-e0e3de8bb9d9",
   "metadata": {
    "tags": []
   },
   "outputs": [
    {
     "data": {
      "text/plain": [
       "Miasto                     object\n",
       "URL                        object\n",
       "Cena                      float64\n",
       "Powierzchnia              float64\n",
       "Liczba pokoi              float64\n",
       "Pietro                     object\n",
       "Czynsz                    float64\n",
       "Stan wykonczenia           object\n",
       "Powierzchnia dodatkowa     object\n",
       "Miejsce parkingowe         object\n",
       "Rynek                      object\n",
       "Rok budowy                 object\n",
       "Winda                     float64\n",
       "latitude                  float64\n",
       "longitude                 float64\n",
       "formatted_address          object\n",
       "result_confidence         float64\n",
       "suburb                     object\n",
       "building_category          object\n",
       "result_type                object\n",
       "pietro mieszkania         float64\n",
       "maksymalne pietro         float64\n",
       "polozenie mieszkania      float64\n",
       "Dataset                    object\n",
       "dtype: object"
      ]
     },
     "execution_count": 21,
     "metadata": {},
     "output_type": "execute_result"
    }
   ],
   "source": [
    "df.dtypes"
   ]
  },
  {
   "cell_type": "code",
   "execution_count": 22,
   "id": "c3cb3ecb-67a1-4bf0-9491-6fcf88d4766b",
   "metadata": {},
   "outputs": [],
   "source": [
    "df.to_csv(\"otodom/otodom_before_merge.csv\", index=False, sep=\"\\t\")"
   ]
  },
  {
   "cell_type": "code",
   "execution_count": null,
   "id": "b618b50e-d747-4aca-a7f9-0f64109bd17d",
   "metadata": {},
   "outputs": [],
   "source": []
  }
 ],
 "metadata": {
  "kernelspec": {
   "display_name": "Python 3 (ipykernel)",
   "language": "python",
   "name": "python3"
  },
  "language_info": {
   "codemirror_mode": {
    "name": "ipython",
    "version": 3
   },
   "file_extension": ".py",
   "mimetype": "text/x-python",
   "name": "python",
   "nbconvert_exporter": "python",
   "pygments_lexer": "ipython3",
   "version": "3.9.10"
  }
 },
 "nbformat": 4,
 "nbformat_minor": 5
}
