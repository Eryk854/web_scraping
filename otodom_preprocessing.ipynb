{
 "cells": [
  {
   "cell_type": "code",
   "execution_count": 1,
   "id": "9a3cc372-a634-427a-8727-965ed67e8da2",
   "metadata": {
    "tags": []
   },
   "outputs": [],
   "source": [
    "import pandas as pd\n",
    "import numpy as np"
   ]
  },
  {
   "cell_type": "code",
   "execution_count": 2,
   "id": "8f1e2f46-847b-48aa-b91a-4881bd73c3e9",
   "metadata": {
    "tags": []
   },
   "outputs": [
    {
     "data": {
      "text/plain": [
       "(34931, 34)"
      ]
     },
     "execution_count": 2,
     "metadata": {},
     "output_type": "execute_result"
    }
   ],
   "source": [
    "file_path = \"otodom/geocoded/otodom_geocoded.csv\"\n",
    "df = pd.read_csv(file_path, sep=\"\\t\")\n",
    "df.shape"
   ]
  },
  {
   "cell_type": "code",
   "execution_count": 21,
   "id": "a531bf5d-73df-4a76-bd41-6c8a73b554a5",
   "metadata": {
    "tags": []
   },
   "outputs": [],
   "source": [
    "df.rename(columns = {\"Url\": \"URL\"}, inplace=True)"
   ]
  },
  {
   "cell_type": "code",
   "execution_count": 3,
   "id": "d6651648-59e7-476d-9fb0-9f51c075402c",
   "metadata": {
    "tags": []
   },
   "outputs": [],
   "source": [
    "df[\"Cena\"] = df[\"Cena\"].str[:-3]\n",
    "df[\"Cena\"] = df[\"Cena\"].str.replace(\",\", \".\")\n",
    "df[\"Cena\"] = df[\"Cena\"].str.replace(\" \", \"\")\n",
    "df[\"Cena\"] = df[\"Cena\"].astype(float)"
   ]
  },
  {
   "cell_type": "code",
   "execution_count": 4,
   "id": "d3d8495b-df1f-4ebe-b06e-695a2d570c10",
   "metadata": {
    "tags": []
   },
   "outputs": [],
   "source": [
    "df[\"Powierzchnia\"] = df[\"Powierzchnia\"].str[:-3]\n",
    "df[\"Powierzchnia\"] = df[\"Powierzchnia\"].str.replace(\",\", \".\")\n",
    "df[\"Powierzchnia\"] = df[\"Powierzchnia\"].str.replace(\" \", \"\")\n",
    "df[\"Powierzchnia\"] = df[\"Powierzchnia\"].astype(float)"
   ]
  },
  {
   "cell_type": "code",
   "execution_count": 5,
   "id": "5f28f5ca-3dda-43a3-8d97-f3ad33009063",
   "metadata": {
    "tags": []
   },
   "outputs": [],
   "source": [
    "df[\"Liczba pokoi\"].replace({\"wiecej niz 10\": 15}, inplace=True)\n",
    "df[\"Liczba pokoi\"] = df[\"Liczba pokoi\"].astype(float)"
   ]
  },
  {
   "cell_type": "code",
   "execution_count": 6,
   "id": "d2571f66-f104-4ec9-bc50-645270e3fd52",
   "metadata": {
    "tags": []
   },
   "outputs": [],
   "source": [
    "from typing import Optional\n",
    "\n",
    "def convert_string_to_floor(floor: str, max_floor: Optional[str] = None):\n",
    "    if floor == \"parter\":\n",
    "        return 0\n",
    "    elif floor == \"suterena\":\n",
    "        return -1\n",
    "    elif floor == \"poddasze\":\n",
    "        return int(max_floor)\n",
    "    else:\n",
    "        return int(floor)\n",
    "\n",
    "def prepare_floor(row: pd.Series):\n",
    "    floor = row[\"Pietro\"]\n",
    "    floor = floor.replace(\">\", \"\")\n",
    "    floor_elements = floor.split(\"/\")\n",
    "    if len(floor_elements) == 2:\n",
    "        your_floor = floor_elements[0].strip()\n",
    "        max_floor = floor_elements[1].strip()\n",
    "        your_floor = convert_string_to_floor(your_floor, max_floor)\n",
    "        max_floor = int(max_floor)\n",
    "           \n",
    "    if len(floor_elements) == 1:\n",
    "        your_floor = floor_elements[0].strip()\n",
    "        if your_floor == \"Zapytaj\":\n",
    "            your_floor = None\n",
    "            max_floor = None\n",
    "        else:\n",
    "            your_floor = convert_string_to_floor(your_floor)\n",
    "        max_floor = None\n",
    "    \n",
    "    row[\"pietro mieszkania\"] = your_floor\n",
    "    row[\"maksymalne pietro\"] = max_floor\n",
    "    return row\n",
    "    \n",
    "df = df.apply(prepare_floor, axis=1)"
   ]
  },
  {
   "cell_type": "code",
   "execution_count": 7,
   "id": "d7c3e4a1-a464-45f1-bfd4-b179e59e21d2",
   "metadata": {
    "tags": []
   },
   "outputs": [],
   "source": [
    "df[\"polozenie mieszkania\"] = df[\"pietro mieszkania\"] / df[\"maksymalne pietro\"]"
   ]
  },
  {
   "cell_type": "code",
   "execution_count": 8,
   "id": "b4018118-e5c2-4b5e-b2d2-018f21ef383b",
   "metadata": {
    "tags": []
   },
   "outputs": [],
   "source": [
    "df[\"Czynsz\"] = df[\"Czynsz\"].str.replace(\"zl\", \"\")\n",
    "df[\"Czynsz\"] = df[\"Czynsz\"].str.replace(\"EUR\", \"\")\n",
    "df[\"Czynsz\"] = df[\"Czynsz\"].str.replace(\",\", \".\")\n",
    "df[\"Czynsz\"] = df[\"Czynsz\"].str.replace(\" \", \"\")\n",
    "df.loc[(df[\"Czynsz\"] == \"Zapytaj\") | (df[\"Czynsz\"].isna()), \"Czynsz\"] = np.nan\n",
    "df[\"Czynsz\"] = df[\"Czynsz\"].astype(float)\n"
   ]
  },
  {
   "cell_type": "code",
   "execution_count": 9,
   "id": "a99f842c-fca8-4267-8db1-be0d76eadb6f",
   "metadata": {
    "tags": []
   },
   "outputs": [],
   "source": [
    "df.loc[df[\"Stan wykonczenia\"] == \"Zapytaj\", \"Stan wykonczenia\"] = \"Brak danych\"\n",
    "df.loc[df[\"Stan wykonczenia\"].isna(), \"Stan wykonczenia\"] = \"Brak danych\""
   ]
  },
  {
   "cell_type": "code",
   "execution_count": 19,
   "id": "b10efda3-358b-4571-82a4-30765f923cc7",
   "metadata": {
    "tags": []
   },
   "outputs": [],
   "source": [
    "df.rename(columns = {\"Balkon / ogrod / taras\": \"Powierzchnia dodatkowa\"}, inplace=True)"
   ]
  },
  {
   "cell_type": "code",
   "execution_count": 11,
   "id": "81a9045c-76a2-4912-b27b-4647dcf30d6c",
   "metadata": {
    "tags": []
   },
   "outputs": [],
   "source": [
    "df.loc[(df[\"Miejsce parkingowe\"] == \"Zapytaj\")|(df[\"Miejsce parkingowe\"].isna()), \"Miejsce parkingowe\"] = 0\n",
    "df.loc[(df[\"Miejsce parkingowe\"] != \"Zapytaj\")&(~df[\"Miejsce parkingowe\"].isna()), \"Miejsce parkingowe\"] = 1"
   ]
  },
  {
   "cell_type": "code",
   "execution_count": 12,
   "id": "4fc73ac8-2b01-4520-b03b-e59a1adf18fa",
   "metadata": {
    "tags": []
   },
   "outputs": [],
   "source": [
    "df.loc[(df[\"Rynek\"] == \"Zapytaj\")|(df[\"Rynek\"].isna()), \"Rynek\"] = \"Brak danych\""
   ]
  },
  {
   "cell_type": "code",
   "execution_count": 13,
   "id": "4a6a7692-a23d-445f-8e88-0fa4e9b8b727",
   "metadata": {
    "tags": []
   },
   "outputs": [],
   "source": [
    "df.loc[(df[\"Rok budowy\"] == \"brak informacji\") | (df[\"Rok budowy\"].isna()), \"Rok budowy\"] = \"Brak danych\""
   ]
  },
  {
   "cell_type": "code",
   "execution_count": 14,
   "id": "7201c4ea-315d-4e9c-a9c3-fbe30429b077",
   "metadata": {
    "tags": []
   },
   "outputs": [],
   "source": [
    "df.loc[(df[\"Winda\"] == \"nie\") | (df[\"Winda\"].isna()), \"Winda\"] = 0\n",
    "df.loc[df[\"Winda\"] == \"tak\", \"Winda\"] = 1\n",
    "df[\"Winda\"] = df[\"Winda\"].astype(float)"
   ]
  },
  {
   "cell_type": "code",
   "execution_count": 15,
   "id": "64b447b2-273e-4eda-99f6-c90a71ab9692",
   "metadata": {
    "tags": []
   },
   "outputs": [],
   "source": [
    "df.drop(columns=[\n",
    "    \"Adres\",\n",
    "    \"Tytul\",\n",
    "    \"Obsluga zdalna\",\n",
    "    \"Forma wlasnosci\",\n",
    "    \"Ogrzewanie\",\n",
    "    \"Typ ogloszeniodawcy\",\n",
    "    \"Dostepne od\",\n",
    "    \"Rodzaj zabudowy\", \n",
    "    \"Okna\",\n",
    "    \"Media\",\n",
    "    \"Zabezpieczenia\",\n",
    "    \"Wyposazenie\",\n",
    "    \"Informacje dodatkowe\",\n",
    "    \"Material budynku\"\n",
    "], inplace=True)"
   ]
  },
  {
   "cell_type": "code",
   "execution_count": 22,
   "id": "f34688a1-cad7-4930-9d06-52ef56312b73",
   "metadata": {
    "tags": []
   },
   "outputs": [
    {
     "data": {
      "text/plain": [
       "Index(['Miasto', 'URL', 'Cena', 'Powierzchnia', 'Liczba pokoi', 'Pietro',\n",
       "       'Czynsz', 'Stan wykonczenia', 'Powierzchnia dodatkowa',\n",
       "       'Miejsce parkingowe', 'Rynek', 'Rok budowy', 'Winda', 'latitude',\n",
       "       'longitude', 'formatted_address', 'result_confidence', 'suburb',\n",
       "       'building_category', 'result_type', 'pietro mieszkania',\n",
       "       'maksymalne pietro', 'polozenie mieszkania'],\n",
       "      dtype='object')"
      ]
     },
     "execution_count": 22,
     "metadata": {},
     "output_type": "execute_result"
    }
   ],
   "source": [
    "df.columns"
   ]
  },
  {
   "cell_type": "code",
   "execution_count": 17,
   "id": "e0f6ab8a-04b3-4da3-881c-c2896db723b5",
   "metadata": {
    "tags": []
   },
   "outputs": [
    {
     "data": {
      "text/plain": [
       "(34931, 23)"
      ]
     },
     "execution_count": 17,
     "metadata": {},
     "output_type": "execute_result"
    }
   ],
   "source": [
    "df.shape"
   ]
  },
  {
   "cell_type": "code",
   "execution_count": 24,
   "id": "eed0fb58-3a9e-4283-88f7-e0e3de8bb9d9",
   "metadata": {
    "tags": []
   },
   "outputs": [
    {
     "data": {
      "text/plain": [
       "Miasto                     object\n",
       "URL                        object\n",
       "Cena                      float64\n",
       "Powierzchnia              float64\n",
       "Liczba pokoi              float64\n",
       "Pietro                     object\n",
       "Czynsz                    float64\n",
       "Stan wykonczenia           object\n",
       "Powierzchnia dodatkowa     object\n",
       "Miejsce parkingowe         object\n",
       "Rynek                      object\n",
       "Rok budowy                 object\n",
       "Winda                       int32\n",
       "latitude                  float64\n",
       "longitude                 float64\n",
       "formatted_address          object\n",
       "result_confidence         float64\n",
       "suburb                     object\n",
       "building_category          object\n",
       "result_type                object\n",
       "pietro mieszkania         float64\n",
       "maksymalne pietro         float64\n",
       "polozenie mieszkania      float64\n",
       "dtype: object"
      ]
     },
     "execution_count": 24,
     "metadata": {},
     "output_type": "execute_result"
    }
   ],
   "source": [
    "df.dtypes"
   ]
  },
  {
   "cell_type": "code",
   "execution_count": null,
   "id": "c3cb3ecb-67a1-4bf0-9491-6fcf88d4766b",
   "metadata": {},
   "outputs": [],
   "source": []
  },
  {
   "cell_type": "code",
   "execution_count": null,
   "id": "c98f0cf0-dcee-49f0-9c65-75d646cb6e18",
   "metadata": {},
   "outputs": [],
   "source": []
  },
  {
   "cell_type": "code",
   "execution_count": null,
   "id": "3b8c622b-85fe-4726-9c5b-045caf38a5f9",
   "metadata": {
    "tags": []
   },
   "outputs": [],
   "source": [
    "df_preprocesed = df[[\"Miasto\", \"Cena\", \"Powierzchnia\", \"Liczba pokoi\", \"pietro mieszkania\", \"maksymalne pietro\", \"polozenie mieszkania\", \"Czynsz\", \"Forma wlasnosci\", \"Stan wykonczenia\", \"Miejsce parkingowe\", \"Ogrzewanie\", \"Rynek\", \"Rok budowy\", \"Winda\", \"latitude\", \"longitude\"]]"
   ]
  },
  {
   "cell_type": "code",
   "execution_count": null,
   "id": "bd0ba4f7-65f1-49bf-aefc-36d6a8c78093",
   "metadata": {
    "tags": []
   },
   "outputs": [],
   "source": [
    "df_preprocesed.head()"
   ]
  },
  {
   "cell_type": "code",
   "execution_count": null,
   "id": "9c56b0fd-4a87-404c-8e2b-3df21ece79db",
   "metadata": {
    "tags": []
   },
   "outputs": [],
   "source": [
    "df_preprocesed.dtypes"
   ]
  },
  {
   "cell_type": "code",
   "execution_count": null,
   "id": "b6869761-9f46-4b6b-bc16-739451f6c02f",
   "metadata": {
    "tags": []
   },
   "outputs": [],
   "source": [
    "from sklearn.model_selection import train_test_split\n",
    "# columns = [\"Cena\", \"Powierzchnia\", \"Liczba pokoi\", \"pietro mieszkania\", \"maksymalne pietro\", \"polozenie mieszkania\", \"Rok budowy\", \"Winda\", \"Czynsz\", \"latitude\", \"longitude\"]\n",
    "columns = [\"Cena\", \"Powierzchnia\", \"Liczba pokoi\", \"pietro mieszkania\", \"maksymalne pietro\", \"polozenie mieszkania\", \"Rok budowy\", \"Winda\", \"Czynsz\", \"latitude\", \"longitude\"]\n",
    "df_modeling = df_preprocesed[columns]\n",
    "df_modeling = df_modeling.fillna(0)"
   ]
  },
  {
   "cell_type": "code",
   "execution_count": null,
   "id": "7fac2642-92d6-4bf4-8d57-a69def7ed631",
   "metadata": {
    "tags": []
   },
   "outputs": [],
   "source": [
    "x_train, x_test, y_train, y_test = train_test_split(df_modeling.iloc[:, 1:], df_modeling[\"Cena\"], test_size=0.2, random_state=42)"
   ]
  },
  {
   "cell_type": "code",
   "execution_count": null,
   "id": "08216a11-f1cb-42d7-b76f-f3431d6c4048",
   "metadata": {
    "tags": []
   },
   "outputs": [],
   "source": [
    "from sklearn.linear_model import LinearRegression\n",
    "regressor = LinearRegression().fit(x_train, y_train)"
   ]
  },
  {
   "cell_type": "code",
   "execution_count": null,
   "id": "4ccb51da-1223-45e8-8321-5d8a5bd7d83e",
   "metadata": {
    "tags": []
   },
   "outputs": [],
   "source": [
    "regressor.score(x_train, y_train)"
   ]
  },
  {
   "cell_type": "code",
   "execution_count": null,
   "id": "0b248bf5-ccc9-41a6-9b06-807d786c847d",
   "metadata": {
    "tags": []
   },
   "outputs": [],
   "source": [
    "from sklearn.metrics import r2_score\n",
    "from sklearn.metrics import mean_squared_error\n",
    "r2 = r2_score(y_test, regressor.predict(x_test))\n",
    "mse = mean_squared_error(y_test, regressor.predict(x_test))\n",
    "print(r2)\n",
    "print(mse)"
   ]
  },
  {
   "cell_type": "code",
   "execution_count": null,
   "id": "bcf2087d-3fef-4958-89cd-468b096ae44a",
   "metadata": {
    "tags": []
   },
   "outputs": [],
   "source": [
    "from sklearn.tree import DecisionTreeRegressor\n",
    "regressor = DecisionTreeRegressor(random_state=0).fit(x_train, y_train)\n",
    "regressor.score(x_train, y_train)"
   ]
  },
  {
   "cell_type": "code",
   "execution_count": null,
   "id": "986de14c-c6f7-494b-a9b9-e5b7b82373df",
   "metadata": {
    "tags": []
   },
   "outputs": [],
   "source": [
    "r2 = r2_score(y_test, regressor.predict(x_test))\n",
    "mse = mean_squared_error(y_test, regressor.predict(x_test))\n",
    "print(r2)\n",
    "print(mse)"
   ]
  },
  {
   "cell_type": "code",
   "execution_count": null,
   "id": "7a1dfe2f-e358-48d0-9560-e02427ed6049",
   "metadata": {
    "tags": []
   },
   "outputs": [],
   "source": [
    "from sklearn.feature_selection import SelectKBest, RFE, f_regression\n",
    "\n",
    "bestfeatures = SelectKBest(score_func=f_regression, k='all')\n",
    "fit = bestfeatures.fit(x_train, y_train)\n",
    "print(fit.scores_)\n",
    "dfscores = pd.DataFrame(np.around(fit.scores_, 2))\n",
    "dfcolumns = pd.DataFrame(x_train.columns)\n",
    "#concat two dataframes for better visualization \n",
    "featureScores = pd.concat([dfcolumns,dfscores],axis=1)\n",
    "featureScores.columns = ['Specs','Score']  #naming the dataframe columns\n",
    "print(featureScores.nlargest(30,'Score'))  \n",
    "featureScores.head(100)"
   ]
  },
  {
   "cell_type": "code",
   "execution_count": null,
   "id": "6c6c3ae9-d793-4e2c-aec6-d503770a6ff8",
   "metadata": {},
   "outputs": [],
   "source": []
  },
  {
   "cell_type": "code",
   "execution_count": null,
   "id": "a41d27a8-69ce-43cb-ac82-6c876ee1cde8",
   "metadata": {},
   "outputs": [],
   "source": []
  }
 ],
 "metadata": {
  "kernelspec": {
   "display_name": "Python 3 (ipykernel)",
   "language": "python",
   "name": "python3"
  },
  "language_info": {
   "codemirror_mode": {
    "name": "ipython",
    "version": 3
   },
   "file_extension": ".py",
   "mimetype": "text/x-python",
   "name": "python",
   "nbconvert_exporter": "python",
   "pygments_lexer": "ipython3",
   "version": "3.9.10"
  }
 },
 "nbformat": 4,
 "nbformat_minor": 5
}
